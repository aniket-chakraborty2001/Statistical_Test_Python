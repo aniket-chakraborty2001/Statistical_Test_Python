{
 "cells": [
  {
   "cell_type": "code",
   "execution_count": 1,
   "id": "cf2ca8a3",
   "metadata": {},
   "outputs": [],
   "source": [
    "# Importing Required Packages\n",
    "\n",
    "import numpy as np\n",
    "import pandas as pd\n",
    "import matplotlib.pyplot as plt\n",
    "import seaborn as sns\n",
    "import os\n",
    "from scipy.stats import shapiro\n",
    "%matplotlib inline"
   ]
  },
  {
   "cell_type": "code",
   "execution_count": 2,
   "id": "0e39b4e6",
   "metadata": {},
   "outputs": [
    {
     "data": {
      "text/html": [
       "<div>\n",
       "<style scoped>\n",
       "    .dataframe tbody tr th:only-of-type {\n",
       "        vertical-align: middle;\n",
       "    }\n",
       "\n",
       "    .dataframe tbody tr th {\n",
       "        vertical-align: top;\n",
       "    }\n",
       "\n",
       "    .dataframe thead th {\n",
       "        text-align: right;\n",
       "    }\n",
       "</style>\n",
       "<table border=\"1\" class=\"dataframe\">\n",
       "  <thead>\n",
       "    <tr style=\"text-align: right;\">\n",
       "      <th></th>\n",
       "      <th>Name</th>\n",
       "      <th>Maths</th>\n",
       "      <th>Physics</th>\n",
       "      <th>Chemistry</th>\n",
       "      <th>Biology</th>\n",
       "      <th>ComputerScience</th>\n",
       "      <th>Bengali</th>\n",
       "      <th>English</th>\n",
       "      <th>History</th>\n",
       "      <th>Geography</th>\n",
       "      <th>Statistics</th>\n",
       "      <th>Gender</th>\n",
       "    </tr>\n",
       "  </thead>\n",
       "  <tbody>\n",
       "    <tr>\n",
       "      <th>0</th>\n",
       "      <td>Aniket</td>\n",
       "      <td>37</td>\n",
       "      <td>34</td>\n",
       "      <td>24</td>\n",
       "      <td>15</td>\n",
       "      <td>48</td>\n",
       "      <td>45</td>\n",
       "      <td>15</td>\n",
       "      <td>45</td>\n",
       "      <td>45</td>\n",
       "      <td>45</td>\n",
       "      <td>M</td>\n",
       "    </tr>\n",
       "    <tr>\n",
       "      <th>1</th>\n",
       "      <td>Aarav</td>\n",
       "      <td>32</td>\n",
       "      <td>34</td>\n",
       "      <td>48</td>\n",
       "      <td>25</td>\n",
       "      <td>14</td>\n",
       "      <td>45</td>\n",
       "      <td>14</td>\n",
       "      <td>12</td>\n",
       "      <td>12</td>\n",
       "      <td>12</td>\n",
       "      <td>M</td>\n",
       "    </tr>\n",
       "    <tr>\n",
       "      <th>2</th>\n",
       "      <td>Aashi</td>\n",
       "      <td>32</td>\n",
       "      <td>34</td>\n",
       "      <td>45</td>\n",
       "      <td>40</td>\n",
       "      <td>15</td>\n",
       "      <td>23</td>\n",
       "      <td>45</td>\n",
       "      <td>46</td>\n",
       "      <td>13</td>\n",
       "      <td>46</td>\n",
       "      <td>F</td>\n",
       "    </tr>\n",
       "    <tr>\n",
       "      <th>3</th>\n",
       "      <td>Aayush</td>\n",
       "      <td>35</td>\n",
       "      <td>31</td>\n",
       "      <td>25</td>\n",
       "      <td>41</td>\n",
       "      <td>25</td>\n",
       "      <td>12</td>\n",
       "      <td>12</td>\n",
       "      <td>48</td>\n",
       "      <td>46</td>\n",
       "      <td>12</td>\n",
       "      <td>M</td>\n",
       "    </tr>\n",
       "    <tr>\n",
       "      <th>4</th>\n",
       "      <td>Aditi</td>\n",
       "      <td>26</td>\n",
       "      <td>33</td>\n",
       "      <td>45</td>\n",
       "      <td>39</td>\n",
       "      <td>48</td>\n",
       "      <td>47</td>\n",
       "      <td>14</td>\n",
       "      <td>23</td>\n",
       "      <td>48</td>\n",
       "      <td>48</td>\n",
       "      <td>F</td>\n",
       "    </tr>\n",
       "  </tbody>\n",
       "</table>\n",
       "</div>"
      ],
      "text/plain": [
       "     Name  Maths  Physics  Chemistry  Biology  ComputerScience  Bengali  \\\n",
       "0  Aniket     37       34         24       15               48       45   \n",
       "1   Aarav     32       34         48       25               14       45   \n",
       "2   Aashi     32       34         45       40               15       23   \n",
       "3  Aayush     35       31         25       41               25       12   \n",
       "4   Aditi     26       33         45       39               48       47   \n",
       "\n",
       "   English  History  Geography  Statistics Gender  \n",
       "0       15       45         45          45      M  \n",
       "1       14       12         12          12      M  \n",
       "2       45       46         13          46      F  \n",
       "3       12       48         46          12      M  \n",
       "4       14       23         48          48      F  "
      ]
     },
     "execution_count": 2,
     "metadata": {},
     "output_type": "execute_result"
    }
   ],
   "source": [
    "# Reading the Data from the directory\n",
    "\n",
    "data = pd.read_csv('StatisticalTest_Data.csv')\n",
    "data.head()"
   ]
  },
  {
   "cell_type": "code",
   "execution_count": 3,
   "id": "1e8c4e9c",
   "metadata": {},
   "outputs": [],
   "source": [
    "# Extracting the Subject Data and storing them In variables\n",
    "\n",
    "math = data['Maths']\n",
    "phy = data['Physics']\n",
    "chem = data['Chemistry']\n",
    "bio = data['Biology']\n",
    "cs = data['ComputerScience']"
   ]
  },
  {
   "cell_type": "markdown",
   "id": "6767c474",
   "metadata": {},
   "source": [
    "### Statistical Test for the Data Set\n",
    "* Check Summary Statistics\n",
    "* Check whether the Data is Normal or not\n",
    "\n",
    "#### Hypothesis for Shapiro Test:\n",
    "* Null Hypothesis: The Data is Normally Distributed\n",
    "* Alternative Hypothesis: The Data is Not Normally Distributed"
   ]
  },
  {
   "cell_type": "markdown",
   "id": "e579a73d",
   "metadata": {},
   "source": [
    "## Check The Statistical Importance of the Maths Data"
   ]
  },
  {
   "cell_type": "code",
   "execution_count": 7,
   "id": "4f8c1254",
   "metadata": {},
   "outputs": [
    {
     "data": {
      "text/plain": [
       "count    60.000000\n",
       "mean     33.066667\n",
       "std       2.927755\n",
       "min      26.000000\n",
       "25%      31.000000\n",
       "50%      33.000000\n",
       "75%      35.000000\n",
       "max      41.000000\n",
       "Name: Maths, dtype: float64"
      ]
     },
     "execution_count": 7,
     "metadata": {},
     "output_type": "execute_result"
    }
   ],
   "source": [
    "# Check Summary Statistics\n",
    "math.describe()"
   ]
  },
  {
   "cell_type": "code",
   "execution_count": 10,
   "id": "09bfcad3",
   "metadata": {},
   "outputs": [
    {
     "name": "stdout",
     "output_type": "stream",
     "text": [
      "Shapiro-Wilk statistic: 0.9657249450683594\n",
      "p-value: 0.08992432057857513\n",
      "We Fail to Reject the Null Hypothesis. The Data is Normal\n"
     ]
    }
   ],
   "source": [
    "# Shapiro Test to Check Normality of the data\n",
    "# Consider the Significance Level is 0.05\n",
    "\n",
    "stat, p = shapiro(math)\n",
    "print('Shapiro-Wilk statistic:', stat)\n",
    "print('p-value:', p)\n",
    "\n",
    "# Status of the Test\n",
    "if p <= 0.05:\n",
    "    print('We Reject the Null Hypothesis. The Data is Not Normal')\n",
    "else:\n",
    "    print('We Fail to Reject the Null Hypothesis. The Data is Normal')"
   ]
  },
  {
   "cell_type": "markdown",
   "id": "d74280be",
   "metadata": {},
   "source": [
    "## Check The Statistical Importance of the Physics Data"
   ]
  },
  {
   "cell_type": "code",
   "execution_count": 11,
   "id": "3da736e7",
   "metadata": {},
   "outputs": [
    {
     "data": {
      "text/plain": [
       "count    60.000000\n",
       "mean     32.816667\n",
       "std       3.301215\n",
       "min      26.000000\n",
       "25%      31.000000\n",
       "50%      32.000000\n",
       "75%      35.000000\n",
       "max      41.000000\n",
       "Name: Physics, dtype: float64"
      ]
     },
     "execution_count": 11,
     "metadata": {},
     "output_type": "execute_result"
    }
   ],
   "source": [
    "# Summary Statistics for The Physics Data\n",
    "phy.describe()"
   ]
  },
  {
   "cell_type": "code",
   "execution_count": 12,
   "id": "2179b828",
   "metadata": {},
   "outputs": [
    {
     "name": "stdout",
     "output_type": "stream",
     "text": [
      "Shapiro-Wilk statistic: 0.9747346043586731\n",
      "p-value: 0.2470366358757019\n",
      "The Data is Normal\n"
     ]
    }
   ],
   "source": [
    "# Shapiro Test to Check Normality of the data\n",
    "# Consider the Significance Level is 0.05\n",
    "\n",
    "stat, p = shapiro(phy)\n",
    "print('Shapiro-Wilk statistic:', stat)\n",
    "print('p-value:', p)\n",
    "\n",
    "# Status of the Test\n",
    "if p <= 0.05:\n",
    "    print('The Data is Not Normal')\n",
    "else:\n",
    "    print('The Data is Normal')"
   ]
  },
  {
   "cell_type": "markdown",
   "id": "696399ac",
   "metadata": {},
   "source": [
    "## Check The Statistical Importance of the Chemistry Data"
   ]
  },
  {
   "cell_type": "code",
   "execution_count": 13,
   "id": "8e6b9893",
   "metadata": {},
   "outputs": [
    {
     "data": {
      "text/plain": [
       "count    60.000000\n",
       "mean     31.083333\n",
       "std      12.072228\n",
       "min       5.000000\n",
       "25%      24.000000\n",
       "50%      28.500000\n",
       "75%      43.250000\n",
       "max      50.000000\n",
       "Name: Chemistry, dtype: float64"
      ]
     },
     "execution_count": 13,
     "metadata": {},
     "output_type": "execute_result"
    }
   ],
   "source": [
    "# Summary Statistics for the Chemistry Data\n",
    "chem.describe()"
   ]
  },
  {
   "cell_type": "code",
   "execution_count": 14,
   "id": "be9fe6a6",
   "metadata": {},
   "outputs": [
    {
     "name": "stdout",
     "output_type": "stream",
     "text": [
      "Shapiro-Wilk statistic: 0.9432072639465332\n",
      "p-value: 0.007555411197245121\n",
      "The Data is Not Normal\n"
     ]
    }
   ],
   "source": [
    "# Shapiro Test to Check Normality of the data\n",
    "# Consider the Significance Level is 0.05\n",
    "\n",
    "stat, p = shapiro(chem)\n",
    "print('Shapiro-Wilk statistic:', stat)\n",
    "print('p-value:', p)\n",
    "\n",
    "# Status of the Test\n",
    "if p <= 0.05:\n",
    "    print('The Data is Not Normal')\n",
    "else:\n",
    "    print('The Data is Normal')"
   ]
  },
  {
   "cell_type": "markdown",
   "id": "a32225b4",
   "metadata": {},
   "source": [
    "## Check The Statistical Importance of the Biology Data"
   ]
  },
  {
   "cell_type": "code",
   "execution_count": 16,
   "id": "a67d410d",
   "metadata": {},
   "outputs": [
    {
     "data": {
      "text/plain": [
       "count    60.000000\n",
       "mean     29.566667\n",
       "std      12.812026\n",
       "min       5.000000\n",
       "25%      19.750000\n",
       "50%      26.500000\n",
       "75%      40.250000\n",
       "max      50.000000\n",
       "Name: Biology, dtype: float64"
      ]
     },
     "execution_count": 16,
     "metadata": {},
     "output_type": "execute_result"
    }
   ],
   "source": [
    "# Summary Statistics for the Biology Data\n",
    "bio.describe()"
   ]
  },
  {
   "cell_type": "code",
   "execution_count": 15,
   "id": "8fdbd40a",
   "metadata": {},
   "outputs": [
    {
     "name": "stdout",
     "output_type": "stream",
     "text": [
      "Shapiro-Wilk statistic: 0.940201997756958\n",
      "p-value: 0.005529089365154505\n",
      "The Data is Not Normal\n"
     ]
    }
   ],
   "source": [
    "# Shapiro Test to Check Normality of the data\n",
    "# Consider the Significance Level is 0.05\n",
    "\n",
    "stat, p = shapiro(bio)\n",
    "print('Shapiro-Wilk statistic:', stat)\n",
    "print('p-value:', p)\n",
    "\n",
    "# Status of the Test\n",
    "if p <= 0.05:\n",
    "    print('The Data is Not Normal')\n",
    "else:\n",
    "    print('The Data is Normal')"
   ]
  },
  {
   "cell_type": "markdown",
   "id": "34bae89d",
   "metadata": {},
   "source": [
    "## Check The Statistical Importance of the ComputerScience Data"
   ]
  },
  {
   "cell_type": "code",
   "execution_count": 17,
   "id": "01975b43",
   "metadata": {},
   "outputs": [
    {
     "data": {
      "text/plain": [
       "count    60.000000\n",
       "mean     30.833333\n",
       "std      11.835263\n",
       "min       5.000000\n",
       "25%      22.750000\n",
       "50%      31.000000\n",
       "75%      41.000000\n",
       "max      49.000000\n",
       "Name: ComputerScience, dtype: float64"
      ]
     },
     "execution_count": 17,
     "metadata": {},
     "output_type": "execute_result"
    }
   ],
   "source": [
    "# Summary Statistics for ComputerScience Data\n",
    "cs.describe()"
   ]
  },
  {
   "cell_type": "code",
   "execution_count": 18,
   "id": "67a8bcba",
   "metadata": {},
   "outputs": [
    {
     "name": "stdout",
     "output_type": "stream",
     "text": [
      "Shapiro-Wilk statistic: 0.9487504363059998\n",
      "p-value: 0.013610176742076874\n",
      "The Data is Not Normal\n"
     ]
    }
   ],
   "source": [
    "# Shapiro Test to Check Normality of the data\n",
    "# Consider the Significance Level is 0.05\n",
    "\n",
    "stat, p = shapiro(cs)\n",
    "print('Shapiro-Wilk statistic:', stat)\n",
    "print('p-value:', p)\n",
    "\n",
    "# Status of the Test\n",
    "if p <= 0.05:\n",
    "    print('The Data is Not Normal')\n",
    "else:\n",
    "    print('The Data is Normal')"
   ]
  },
  {
   "cell_type": "markdown",
   "id": "66dcc1b3",
   "metadata": {},
   "source": [
    "## Tabulating the Results that We get in This Notebook"
   ]
  },
  {
   "cell_type": "code",
   "execution_count": 30,
   "id": "6190739a",
   "metadata": {},
   "outputs": [
    {
     "data": {
      "text/html": [
       "<div>\n",
       "<style scoped>\n",
       "    .dataframe tbody tr th:only-of-type {\n",
       "        vertical-align: middle;\n",
       "    }\n",
       "\n",
       "    .dataframe tbody tr th {\n",
       "        vertical-align: top;\n",
       "    }\n",
       "\n",
       "    .dataframe thead th {\n",
       "        text-align: right;\n",
       "    }\n",
       "</style>\n",
       "<table border=\"1\" class=\"dataframe\">\n",
       "  <thead>\n",
       "    <tr style=\"text-align: right;\">\n",
       "      <th></th>\n",
       "      <th>Mean</th>\n",
       "      <th>STD</th>\n",
       "      <th>P-Value</th>\n",
       "      <th>SignificanceLevel</th>\n",
       "      <th>Status</th>\n",
       "    </tr>\n",
       "  </thead>\n",
       "  <tbody>\n",
       "    <tr>\n",
       "      <th>Mathematics</th>\n",
       "      <td>33.066667</td>\n",
       "      <td>2.903255</td>\n",
       "      <td>0.08</td>\n",
       "      <td>0.05</td>\n",
       "      <td>Normal</td>\n",
       "    </tr>\n",
       "  </tbody>\n",
       "</table>\n",
       "</div>"
      ],
      "text/plain": [
       "                  Mean       STD  P-Value  SignificanceLevel  Status\n",
       "Mathematics  33.066667  2.903255     0.08               0.05  Normal"
      ]
     },
     "execution_count": 30,
     "metadata": {},
     "output_type": "execute_result"
    }
   ],
   "source": [
    "# Report for the Maths Data\n",
    "# Stote it in a Variable Called reportmath\n",
    "\n",
    "reportmath = {'Mean':[np.mean(data['Maths'])], 'STD':[np.std(data['Maths'])], \n",
    "          'P-Value':[0.08], 'SignificanceLevel':[0.05], 'Status':['Normal']}\n",
    "reportmath = pd.DataFrame(reportmath)\n",
    "reportmath.index = ['Mathematics']\n",
    "reportmath"
   ]
  },
  {
   "cell_type": "code",
   "execution_count": 31,
   "id": "02a77f55",
   "metadata": {},
   "outputs": [
    {
     "data": {
      "text/html": [
       "<div>\n",
       "<style scoped>\n",
       "    .dataframe tbody tr th:only-of-type {\n",
       "        vertical-align: middle;\n",
       "    }\n",
       "\n",
       "    .dataframe tbody tr th {\n",
       "        vertical-align: top;\n",
       "    }\n",
       "\n",
       "    .dataframe thead th {\n",
       "        text-align: right;\n",
       "    }\n",
       "</style>\n",
       "<table border=\"1\" class=\"dataframe\">\n",
       "  <thead>\n",
       "    <tr style=\"text-align: right;\">\n",
       "      <th></th>\n",
       "      <th>Mean</th>\n",
       "      <th>STD</th>\n",
       "      <th>P-Value</th>\n",
       "      <th>SignificanceLevel</th>\n",
       "      <th>Status</th>\n",
       "    </tr>\n",
       "  </thead>\n",
       "  <tbody>\n",
       "    <tr>\n",
       "      <th>Physics</th>\n",
       "      <td>32.816667</td>\n",
       "      <td>3.27359</td>\n",
       "      <td>0.24</td>\n",
       "      <td>0.05</td>\n",
       "      <td>Normal</td>\n",
       "    </tr>\n",
       "  </tbody>\n",
       "</table>\n",
       "</div>"
      ],
      "text/plain": [
       "              Mean      STD  P-Value  SignificanceLevel  Status\n",
       "Physics  32.816667  3.27359     0.24               0.05  Normal"
      ]
     },
     "execution_count": 31,
     "metadata": {},
     "output_type": "execute_result"
    }
   ],
   "source": [
    "# Report for the Physics Data\n",
    "# Stote it in a Variable Called reportphy\n",
    "\n",
    "reportphy = {'Mean':[np.mean(data['Physics'])], 'STD':[np.std(data['Physics'])], \n",
    "          'P-Value':[0.24], 'SignificanceLevel':[0.05], 'Status':['Normal']}\n",
    "reportphy = pd.DataFrame(reportphy)\n",
    "reportphy.index = ['Physics']\n",
    "reportphy"
   ]
  },
  {
   "cell_type": "code",
   "execution_count": 32,
   "id": "726f2794",
   "metadata": {},
   "outputs": [
    {
     "data": {
      "text/html": [
       "<div>\n",
       "<style scoped>\n",
       "    .dataframe tbody tr th:only-of-type {\n",
       "        vertical-align: middle;\n",
       "    }\n",
       "\n",
       "    .dataframe tbody tr th {\n",
       "        vertical-align: top;\n",
       "    }\n",
       "\n",
       "    .dataframe thead th {\n",
       "        text-align: right;\n",
       "    }\n",
       "</style>\n",
       "<table border=\"1\" class=\"dataframe\">\n",
       "  <thead>\n",
       "    <tr style=\"text-align: right;\">\n",
       "      <th></th>\n",
       "      <th>Mean</th>\n",
       "      <th>STD</th>\n",
       "      <th>P-Value</th>\n",
       "      <th>SignificanceLevel</th>\n",
       "      <th>Status</th>\n",
       "    </tr>\n",
       "  </thead>\n",
       "  <tbody>\n",
       "    <tr>\n",
       "      <th>Chemistry</th>\n",
       "      <td>31.083333</td>\n",
       "      <td>11.971204</td>\n",
       "      <td>0.007</td>\n",
       "      <td>0.05</td>\n",
       "      <td>Not-Normal</td>\n",
       "    </tr>\n",
       "  </tbody>\n",
       "</table>\n",
       "</div>"
      ],
      "text/plain": [
       "                Mean        STD  P-Value  SignificanceLevel      Status\n",
       "Chemistry  31.083333  11.971204    0.007               0.05  Not-Normal"
      ]
     },
     "execution_count": 32,
     "metadata": {},
     "output_type": "execute_result"
    }
   ],
   "source": [
    "# Report for the Chemistry Data\n",
    "# Stote it in a Variable Called reportphy\n",
    "\n",
    "reportchem = {'Mean':[np.mean(data['Chemistry'])], 'STD':[np.std(data['Chemistry'])], \n",
    "          'P-Value':[0.007], 'SignificanceLevel':[0.05], 'Status':['Not-Normal']}\n",
    "reportchem = pd.DataFrame(reportchem)\n",
    "reportchem.index = ['Chemistry']\n",
    "reportchem"
   ]
  },
  {
   "cell_type": "code",
   "execution_count": 33,
   "id": "de2860cf",
   "metadata": {},
   "outputs": [
    {
     "data": {
      "text/html": [
       "<div>\n",
       "<style scoped>\n",
       "    .dataframe tbody tr th:only-of-type {\n",
       "        vertical-align: middle;\n",
       "    }\n",
       "\n",
       "    .dataframe tbody tr th {\n",
       "        vertical-align: top;\n",
       "    }\n",
       "\n",
       "    .dataframe thead th {\n",
       "        text-align: right;\n",
       "    }\n",
       "</style>\n",
       "<table border=\"1\" class=\"dataframe\">\n",
       "  <thead>\n",
       "    <tr style=\"text-align: right;\">\n",
       "      <th></th>\n",
       "      <th>Mean</th>\n",
       "      <th>STD</th>\n",
       "      <th>P-Value</th>\n",
       "      <th>SignificanceLevel</th>\n",
       "      <th>Status</th>\n",
       "    </tr>\n",
       "  </thead>\n",
       "  <tbody>\n",
       "    <tr>\n",
       "      <th>Biology</th>\n",
       "      <td>29.566667</td>\n",
       "      <td>12.704811</td>\n",
       "      <td>0.005</td>\n",
       "      <td>0.05</td>\n",
       "      <td>Not-Normal</td>\n",
       "    </tr>\n",
       "  </tbody>\n",
       "</table>\n",
       "</div>"
      ],
      "text/plain": [
       "              Mean        STD  P-Value  SignificanceLevel      Status\n",
       "Biology  29.566667  12.704811    0.005               0.05  Not-Normal"
      ]
     },
     "execution_count": 33,
     "metadata": {},
     "output_type": "execute_result"
    }
   ],
   "source": [
    "# Report for the Biology Data\n",
    "# Stote it in a Variable Called reportphy\n",
    "\n",
    "reportbio = {'Mean':[np.mean(data['Biology'])], 'STD':[np.std(data['Biology'])], \n",
    "          'P-Value':[0.005], 'SignificanceLevel':[0.05], 'Status':['Not-Normal']}\n",
    "reportbio = pd.DataFrame(reportbio)\n",
    "reportbio.index = ['Biology']\n",
    "reportbio"
   ]
  },
  {
   "cell_type": "code",
   "execution_count": 34,
   "id": "1e865eb5",
   "metadata": {},
   "outputs": [
    {
     "data": {
      "text/html": [
       "<div>\n",
       "<style scoped>\n",
       "    .dataframe tbody tr th:only-of-type {\n",
       "        vertical-align: middle;\n",
       "    }\n",
       "\n",
       "    .dataframe tbody tr th {\n",
       "        vertical-align: top;\n",
       "    }\n",
       "\n",
       "    .dataframe thead th {\n",
       "        text-align: right;\n",
       "    }\n",
       "</style>\n",
       "<table border=\"1\" class=\"dataframe\">\n",
       "  <thead>\n",
       "    <tr style=\"text-align: right;\">\n",
       "      <th></th>\n",
       "      <th>Mean</th>\n",
       "      <th>STD</th>\n",
       "      <th>P-Value</th>\n",
       "      <th>SignificanceLevel</th>\n",
       "      <th>Status</th>\n",
       "    </tr>\n",
       "  </thead>\n",
       "  <tbody>\n",
       "    <tr>\n",
       "      <th>Computer Science</th>\n",
       "      <td>30.833333</td>\n",
       "      <td>11.736221</td>\n",
       "      <td>0.01</td>\n",
       "      <td>0.05</td>\n",
       "      <td>Not-Normal</td>\n",
       "    </tr>\n",
       "  </tbody>\n",
       "</table>\n",
       "</div>"
      ],
      "text/plain": [
       "                       Mean        STD  P-Value  SignificanceLevel      Status\n",
       "Computer Science  30.833333  11.736221     0.01               0.05  Not-Normal"
      ]
     },
     "execution_count": 34,
     "metadata": {},
     "output_type": "execute_result"
    }
   ],
   "source": [
    "# Report for the ComputerScience Data\n",
    "# Stote it in a Variable Called reportphy\n",
    "\n",
    "reportcs = {'Mean':[np.mean(data['ComputerScience'])], 'STD':[np.std(data['ComputerScience'])], \n",
    "          'P-Value':[0.01], 'SignificanceLevel':[0.05], 'Status':['Not-Normal']}\n",
    "reportcs = pd.DataFrame(reportcs)\n",
    "reportcs.index = ['Computer Science']\n",
    "reportcs"
   ]
  },
  {
   "cell_type": "markdown",
   "id": "86bd50df",
   "metadata": {},
   "source": [
    "## Complete Report of this Notebook"
   ]
  },
  {
   "cell_type": "code",
   "execution_count": 35,
   "id": "509f9b12",
   "metadata": {},
   "outputs": [
    {
     "data": {
      "text/html": [
       "<div>\n",
       "<style scoped>\n",
       "    .dataframe tbody tr th:only-of-type {\n",
       "        vertical-align: middle;\n",
       "    }\n",
       "\n",
       "    .dataframe tbody tr th {\n",
       "        vertical-align: top;\n",
       "    }\n",
       "\n",
       "    .dataframe thead th {\n",
       "        text-align: right;\n",
       "    }\n",
       "</style>\n",
       "<table border=\"1\" class=\"dataframe\">\n",
       "  <thead>\n",
       "    <tr style=\"text-align: right;\">\n",
       "      <th></th>\n",
       "      <th>Mean</th>\n",
       "      <th>STD</th>\n",
       "      <th>P-Value</th>\n",
       "      <th>SignificanceLevel</th>\n",
       "      <th>Status</th>\n",
       "    </tr>\n",
       "  </thead>\n",
       "  <tbody>\n",
       "    <tr>\n",
       "      <th>Mathematics</th>\n",
       "      <td>33.066667</td>\n",
       "      <td>2.903255</td>\n",
       "      <td>0.080</td>\n",
       "      <td>0.05</td>\n",
       "      <td>Normal</td>\n",
       "    </tr>\n",
       "    <tr>\n",
       "      <th>Physics</th>\n",
       "      <td>32.816667</td>\n",
       "      <td>3.273590</td>\n",
       "      <td>0.240</td>\n",
       "      <td>0.05</td>\n",
       "      <td>Normal</td>\n",
       "    </tr>\n",
       "    <tr>\n",
       "      <th>Chemistry</th>\n",
       "      <td>31.083333</td>\n",
       "      <td>11.971204</td>\n",
       "      <td>0.007</td>\n",
       "      <td>0.05</td>\n",
       "      <td>Not-Normal</td>\n",
       "    </tr>\n",
       "    <tr>\n",
       "      <th>Biology</th>\n",
       "      <td>29.566667</td>\n",
       "      <td>12.704811</td>\n",
       "      <td>0.005</td>\n",
       "      <td>0.05</td>\n",
       "      <td>Not-Normal</td>\n",
       "    </tr>\n",
       "    <tr>\n",
       "      <th>Computer Science</th>\n",
       "      <td>30.833333</td>\n",
       "      <td>11.736221</td>\n",
       "      <td>0.010</td>\n",
       "      <td>0.05</td>\n",
       "      <td>Not-Normal</td>\n",
       "    </tr>\n",
       "  </tbody>\n",
       "</table>\n",
       "</div>"
      ],
      "text/plain": [
       "                       Mean        STD  P-Value  SignificanceLevel      Status\n",
       "Mathematics       33.066667   2.903255    0.080               0.05      Normal\n",
       "Physics           32.816667   3.273590    0.240               0.05      Normal\n",
       "Chemistry         31.083333  11.971204    0.007               0.05  Not-Normal\n",
       "Biology           29.566667  12.704811    0.005               0.05  Not-Normal\n",
       "Computer Science  30.833333  11.736221    0.010               0.05  Not-Normal"
      ]
     },
     "execution_count": 35,
     "metadata": {},
     "output_type": "execute_result"
    }
   ],
   "source": [
    "report1 = pd.concat([reportmath, reportphy, reportchem, reportbio, reportcs], axis = 0)\n",
    "report1"
   ]
  },
  {
   "cell_type": "markdown",
   "id": "20db9a68",
   "metadata": {},
   "source": [
    "### Exporting the Report for Further Useage"
   ]
  },
  {
   "cell_type": "code",
   "execution_count": 38,
   "id": "22149098",
   "metadata": {},
   "outputs": [],
   "source": [
    "file_path = 'Report1.csv'\n",
    "report1.to_csv(file_path, index = True)"
   ]
  },
  {
   "cell_type": "code",
   "execution_count": null,
   "id": "86b47278",
   "metadata": {},
   "outputs": [],
   "source": []
  }
 ],
 "metadata": {
  "kernelspec": {
   "display_name": "Python 3 (ipykernel)",
   "language": "python",
   "name": "python3"
  },
  "language_info": {
   "codemirror_mode": {
    "name": "ipython",
    "version": 3
   },
   "file_extension": ".py",
   "mimetype": "text/x-python",
   "name": "python",
   "nbconvert_exporter": "python",
   "pygments_lexer": "ipython3",
   "version": "3.11.5"
  }
 },
 "nbformat": 4,
 "nbformat_minor": 5
}
