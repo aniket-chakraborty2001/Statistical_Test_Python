{
 "cells": [
  {
   "cell_type": "code",
   "execution_count": 1,
   "id": "2e6d8cd2",
   "metadata": {},
   "outputs": [],
   "source": [
    "# Importing all Required Packages\n",
    "\n",
    "import numpy as np\n",
    "import pandas as pd\n",
    "import matplotlib.pyplot as plt\n",
    "import seaborn as sns\n",
    "from scipy.stats import ttest_ind as ttest\n",
    "import os\n",
    "%matplotlib inline"
   ]
  },
  {
   "cell_type": "code",
   "execution_count": 2,
   "id": "469f65ad",
   "metadata": {},
   "outputs": [
    {
     "data": {
      "text/html": [
       "<div>\n",
       "<style scoped>\n",
       "    .dataframe tbody tr th:only-of-type {\n",
       "        vertical-align: middle;\n",
       "    }\n",
       "\n",
       "    .dataframe tbody tr th {\n",
       "        vertical-align: top;\n",
       "    }\n",
       "\n",
       "    .dataframe thead th {\n",
       "        text-align: right;\n",
       "    }\n",
       "</style>\n",
       "<table border=\"1\" class=\"dataframe\">\n",
       "  <thead>\n",
       "    <tr style=\"text-align: right;\">\n",
       "      <th></th>\n",
       "      <th>Name</th>\n",
       "      <th>Maths</th>\n",
       "      <th>Physics</th>\n",
       "      <th>Chemistry</th>\n",
       "      <th>Biology</th>\n",
       "      <th>ComputerScience</th>\n",
       "      <th>Bengali</th>\n",
       "      <th>English</th>\n",
       "      <th>History</th>\n",
       "      <th>Geography</th>\n",
       "      <th>Statistics</th>\n",
       "      <th>Gender</th>\n",
       "    </tr>\n",
       "  </thead>\n",
       "  <tbody>\n",
       "    <tr>\n",
       "      <th>0</th>\n",
       "      <td>Aniket</td>\n",
       "      <td>37</td>\n",
       "      <td>34</td>\n",
       "      <td>24</td>\n",
       "      <td>15</td>\n",
       "      <td>48</td>\n",
       "      <td>45</td>\n",
       "      <td>15</td>\n",
       "      <td>45</td>\n",
       "      <td>45</td>\n",
       "      <td>45</td>\n",
       "      <td>M</td>\n",
       "    </tr>\n",
       "    <tr>\n",
       "      <th>1</th>\n",
       "      <td>Aarav</td>\n",
       "      <td>32</td>\n",
       "      <td>34</td>\n",
       "      <td>48</td>\n",
       "      <td>25</td>\n",
       "      <td>14</td>\n",
       "      <td>45</td>\n",
       "      <td>14</td>\n",
       "      <td>12</td>\n",
       "      <td>12</td>\n",
       "      <td>12</td>\n",
       "      <td>M</td>\n",
       "    </tr>\n",
       "    <tr>\n",
       "      <th>2</th>\n",
       "      <td>Aashi</td>\n",
       "      <td>32</td>\n",
       "      <td>34</td>\n",
       "      <td>45</td>\n",
       "      <td>40</td>\n",
       "      <td>15</td>\n",
       "      <td>23</td>\n",
       "      <td>45</td>\n",
       "      <td>46</td>\n",
       "      <td>13</td>\n",
       "      <td>46</td>\n",
       "      <td>F</td>\n",
       "    </tr>\n",
       "    <tr>\n",
       "      <th>3</th>\n",
       "      <td>Aayush</td>\n",
       "      <td>35</td>\n",
       "      <td>31</td>\n",
       "      <td>25</td>\n",
       "      <td>41</td>\n",
       "      <td>25</td>\n",
       "      <td>12</td>\n",
       "      <td>12</td>\n",
       "      <td>48</td>\n",
       "      <td>46</td>\n",
       "      <td>12</td>\n",
       "      <td>M</td>\n",
       "    </tr>\n",
       "    <tr>\n",
       "      <th>4</th>\n",
       "      <td>Aditi</td>\n",
       "      <td>26</td>\n",
       "      <td>33</td>\n",
       "      <td>45</td>\n",
       "      <td>39</td>\n",
       "      <td>48</td>\n",
       "      <td>47</td>\n",
       "      <td>14</td>\n",
       "      <td>23</td>\n",
       "      <td>48</td>\n",
       "      <td>48</td>\n",
       "      <td>F</td>\n",
       "    </tr>\n",
       "  </tbody>\n",
       "</table>\n",
       "</div>"
      ],
      "text/plain": [
       "     Name  Maths  Physics  Chemistry  Biology  ComputerScience  Bengali  \\\n",
       "0  Aniket     37       34         24       15               48       45   \n",
       "1   Aarav     32       34         48       25               14       45   \n",
       "2   Aashi     32       34         45       40               15       23   \n",
       "3  Aayush     35       31         25       41               25       12   \n",
       "4   Aditi     26       33         45       39               48       47   \n",
       "\n",
       "   English  History  Geography  Statistics Gender  \n",
       "0       15       45         45          45      M  \n",
       "1       14       12         12          12      M  \n",
       "2       45       46         13          46      F  \n",
       "3       12       48         46          12      M  \n",
       "4       14       23         48          48      F  "
      ]
     },
     "execution_count": 2,
     "metadata": {},
     "output_type": "execute_result"
    }
   ],
   "source": [
    "# Reading the Data set\n",
    "\n",
    "data = pd.read_csv('StatisticalTest_Data.csv')\n",
    "data.head()"
   ]
  },
  {
   "cell_type": "code",
   "execution_count": 3,
   "id": "77cd2eee",
   "metadata": {},
   "outputs": [],
   "source": [
    "# Creating two different data sets from the dataframe data\n",
    "# datamale contains the scores for male candidates\n",
    "# datafemale contains the scores for female candidates\n",
    "\n",
    "datamale = data[data['Gender'] == 'M']\n",
    "datafemale = data[data['Gender'] == 'F']"
   ]
  },
  {
   "cell_type": "markdown",
   "id": "1061ad9a",
   "metadata": {},
   "source": [
    "### Checking the datamle data frame"
   ]
  },
  {
   "cell_type": "code",
   "execution_count": 4,
   "id": "ccef553f",
   "metadata": {},
   "outputs": [
    {
     "data": {
      "text/html": [
       "<div>\n",
       "<style scoped>\n",
       "    .dataframe tbody tr th:only-of-type {\n",
       "        vertical-align: middle;\n",
       "    }\n",
       "\n",
       "    .dataframe tbody tr th {\n",
       "        vertical-align: top;\n",
       "    }\n",
       "\n",
       "    .dataframe thead th {\n",
       "        text-align: right;\n",
       "    }\n",
       "</style>\n",
       "<table border=\"1\" class=\"dataframe\">\n",
       "  <thead>\n",
       "    <tr style=\"text-align: right;\">\n",
       "      <th></th>\n",
       "      <th>Name</th>\n",
       "      <th>Maths</th>\n",
       "      <th>Physics</th>\n",
       "      <th>Chemistry</th>\n",
       "      <th>Biology</th>\n",
       "      <th>ComputerScience</th>\n",
       "      <th>Bengali</th>\n",
       "      <th>English</th>\n",
       "      <th>History</th>\n",
       "      <th>Geography</th>\n",
       "      <th>Statistics</th>\n",
       "      <th>Gender</th>\n",
       "    </tr>\n",
       "  </thead>\n",
       "  <tbody>\n",
       "    <tr>\n",
       "      <th>0</th>\n",
       "      <td>Aniket</td>\n",
       "      <td>37</td>\n",
       "      <td>34</td>\n",
       "      <td>24</td>\n",
       "      <td>15</td>\n",
       "      <td>48</td>\n",
       "      <td>45</td>\n",
       "      <td>15</td>\n",
       "      <td>45</td>\n",
       "      <td>45</td>\n",
       "      <td>45</td>\n",
       "      <td>M</td>\n",
       "    </tr>\n",
       "    <tr>\n",
       "      <th>1</th>\n",
       "      <td>Aarav</td>\n",
       "      <td>32</td>\n",
       "      <td>34</td>\n",
       "      <td>48</td>\n",
       "      <td>25</td>\n",
       "      <td>14</td>\n",
       "      <td>45</td>\n",
       "      <td>14</td>\n",
       "      <td>12</td>\n",
       "      <td>12</td>\n",
       "      <td>12</td>\n",
       "      <td>M</td>\n",
       "    </tr>\n",
       "    <tr>\n",
       "      <th>3</th>\n",
       "      <td>Aayush</td>\n",
       "      <td>35</td>\n",
       "      <td>31</td>\n",
       "      <td>25</td>\n",
       "      <td>41</td>\n",
       "      <td>25</td>\n",
       "      <td>12</td>\n",
       "      <td>12</td>\n",
       "      <td>48</td>\n",
       "      <td>46</td>\n",
       "      <td>12</td>\n",
       "      <td>M</td>\n",
       "    </tr>\n",
       "    <tr>\n",
       "      <th>5</th>\n",
       "      <td>Advait</td>\n",
       "      <td>30</td>\n",
       "      <td>27</td>\n",
       "      <td>47</td>\n",
       "      <td>5</td>\n",
       "      <td>47</td>\n",
       "      <td>14</td>\n",
       "      <td>25</td>\n",
       "      <td>28</td>\n",
       "      <td>25</td>\n",
       "      <td>6</td>\n",
       "      <td>M</td>\n",
       "    </tr>\n",
       "    <tr>\n",
       "      <th>6</th>\n",
       "      <td>Akshay</td>\n",
       "      <td>33</td>\n",
       "      <td>28</td>\n",
       "      <td>33</td>\n",
       "      <td>12</td>\n",
       "      <td>15</td>\n",
       "      <td>21</td>\n",
       "      <td>45</td>\n",
       "      <td>23</td>\n",
       "      <td>21</td>\n",
       "      <td>34</td>\n",
       "      <td>M</td>\n",
       "    </tr>\n",
       "  </tbody>\n",
       "</table>\n",
       "</div>"
      ],
      "text/plain": [
       "     Name  Maths  Physics  Chemistry  Biology  ComputerScience  Bengali  \\\n",
       "0  Aniket     37       34         24       15               48       45   \n",
       "1   Aarav     32       34         48       25               14       45   \n",
       "3  Aayush     35       31         25       41               25       12   \n",
       "5  Advait     30       27         47        5               47       14   \n",
       "6  Akshay     33       28         33       12               15       21   \n",
       "\n",
       "   English  History  Geography  Statistics Gender  \n",
       "0       15       45         45          45      M  \n",
       "1       14       12         12          12      M  \n",
       "3       12       48         46          12      M  \n",
       "5       25       28         25           6      M  \n",
       "6       45       23         21          34      M  "
      ]
     },
     "execution_count": 4,
     "metadata": {},
     "output_type": "execute_result"
    }
   ],
   "source": [
    "# First Few Rows\n",
    "datamale.head()"
   ]
  },
  {
   "cell_type": "code",
   "execution_count": 5,
   "id": "8043caa5",
   "metadata": {},
   "outputs": [
    {
     "name": "stdout",
     "output_type": "stream",
     "text": [
      "Number of Columns: 12\n",
      "Number of Rows: 30\n"
     ]
    }
   ],
   "source": [
    "# Shape of the datamale dataframe\n",
    "print('Number of Columns:', datamale.shape[1])\n",
    "print('Number of Rows:', datamale.shape[0])"
   ]
  },
  {
   "cell_type": "markdown",
   "id": "c18de008",
   "metadata": {},
   "source": [
    "### Checking the datafemale column"
   ]
  },
  {
   "cell_type": "code",
   "execution_count": 6,
   "id": "fa547ac1",
   "metadata": {},
   "outputs": [
    {
     "data": {
      "text/html": [
       "<div>\n",
       "<style scoped>\n",
       "    .dataframe tbody tr th:only-of-type {\n",
       "        vertical-align: middle;\n",
       "    }\n",
       "\n",
       "    .dataframe tbody tr th {\n",
       "        vertical-align: top;\n",
       "    }\n",
       "\n",
       "    .dataframe thead th {\n",
       "        text-align: right;\n",
       "    }\n",
       "</style>\n",
       "<table border=\"1\" class=\"dataframe\">\n",
       "  <thead>\n",
       "    <tr style=\"text-align: right;\">\n",
       "      <th></th>\n",
       "      <th>Name</th>\n",
       "      <th>Maths</th>\n",
       "      <th>Physics</th>\n",
       "      <th>Chemistry</th>\n",
       "      <th>Biology</th>\n",
       "      <th>ComputerScience</th>\n",
       "      <th>Bengali</th>\n",
       "      <th>English</th>\n",
       "      <th>History</th>\n",
       "      <th>Geography</th>\n",
       "      <th>Statistics</th>\n",
       "      <th>Gender</th>\n",
       "    </tr>\n",
       "  </thead>\n",
       "  <tbody>\n",
       "    <tr>\n",
       "      <th>2</th>\n",
       "      <td>Aashi</td>\n",
       "      <td>32</td>\n",
       "      <td>34</td>\n",
       "      <td>45</td>\n",
       "      <td>40</td>\n",
       "      <td>15</td>\n",
       "      <td>23</td>\n",
       "      <td>45</td>\n",
       "      <td>46</td>\n",
       "      <td>13</td>\n",
       "      <td>46</td>\n",
       "      <td>F</td>\n",
       "    </tr>\n",
       "    <tr>\n",
       "      <th>4</th>\n",
       "      <td>Aditi</td>\n",
       "      <td>26</td>\n",
       "      <td>33</td>\n",
       "      <td>45</td>\n",
       "      <td>39</td>\n",
       "      <td>48</td>\n",
       "      <td>47</td>\n",
       "      <td>14</td>\n",
       "      <td>23</td>\n",
       "      <td>48</td>\n",
       "      <td>48</td>\n",
       "      <td>F</td>\n",
       "    </tr>\n",
       "    <tr>\n",
       "      <th>7</th>\n",
       "      <td>Alisha</td>\n",
       "      <td>36</td>\n",
       "      <td>31</td>\n",
       "      <td>31</td>\n",
       "      <td>45</td>\n",
       "      <td>26</td>\n",
       "      <td>5</td>\n",
       "      <td>12</td>\n",
       "      <td>29</td>\n",
       "      <td>36</td>\n",
       "      <td>36</td>\n",
       "      <td>F</td>\n",
       "    </tr>\n",
       "    <tr>\n",
       "      <th>9</th>\n",
       "      <td>Amrita</td>\n",
       "      <td>40</td>\n",
       "      <td>36</td>\n",
       "      <td>5</td>\n",
       "      <td>20</td>\n",
       "      <td>25</td>\n",
       "      <td>31</td>\n",
       "      <td>32</td>\n",
       "      <td>12</td>\n",
       "      <td>45</td>\n",
       "      <td>39</td>\n",
       "      <td>F</td>\n",
       "    </tr>\n",
       "    <tr>\n",
       "      <th>10</th>\n",
       "      <td>Ananya</td>\n",
       "      <td>35</td>\n",
       "      <td>38</td>\n",
       "      <td>43</td>\n",
       "      <td>23</td>\n",
       "      <td>45</td>\n",
       "      <td>23</td>\n",
       "      <td>24</td>\n",
       "      <td>18</td>\n",
       "      <td>6</td>\n",
       "      <td>12</td>\n",
       "      <td>F</td>\n",
       "    </tr>\n",
       "  </tbody>\n",
       "</table>\n",
       "</div>"
      ],
      "text/plain": [
       "      Name  Maths  Physics  Chemistry  Biology  ComputerScience  Bengali  \\\n",
       "2    Aashi     32       34         45       40               15       23   \n",
       "4    Aditi     26       33         45       39               48       47   \n",
       "7   Alisha     36       31         31       45               26        5   \n",
       "9   Amrita     40       36          5       20               25       31   \n",
       "10  Ananya     35       38         43       23               45       23   \n",
       "\n",
       "    English  History  Geography  Statistics Gender  \n",
       "2        45       46         13          46      F  \n",
       "4        14       23         48          48      F  \n",
       "7        12       29         36          36      F  \n",
       "9        32       12         45          39      F  \n",
       "10       24       18          6          12      F  "
      ]
     },
     "execution_count": 6,
     "metadata": {},
     "output_type": "execute_result"
    }
   ],
   "source": [
    "# First Few Rows of datafemale dataframe\n",
    "datafemale.head()"
   ]
  },
  {
   "cell_type": "code",
   "execution_count": 7,
   "id": "365a4291",
   "metadata": {},
   "outputs": [
    {
     "name": "stdout",
     "output_type": "stream",
     "text": [
      "Number of Columns: 12\n",
      "Number of Rows: 30\n"
     ]
    }
   ],
   "source": [
    "# Shape of datafemale\n",
    "print('Number of Columns:', datafemale.shape[1])\n",
    "print('Number of Rows:', datafemale.shape[0])"
   ]
  },
  {
   "cell_type": "markdown",
   "id": "d21f1d13",
   "metadata": {},
   "source": [
    "### Extracting Marks of Different Subjects for Different data frames"
   ]
  },
  {
   "cell_type": "code",
   "execution_count": 8,
   "id": "48493e13",
   "metadata": {},
   "outputs": [],
   "source": [
    "# Extracting Marks for Male Candidates\n",
    "\n",
    "bngmale = datamale['Bengali']\n",
    "engmale = datamale['English']\n",
    "hismale = datamale['History']\n",
    "geomale = datamale['Geography']\n",
    "stmale = datamale['Statistics']\n",
    "\n",
    "# Extracting Marks for Female Candidates\n",
    "bngfemale = datafemale['Bengali']\n",
    "engfemale = datafemale['English']\n",
    "hisfemale = datafemale['History']\n",
    "geofemale = datafemale['Geography']\n",
    "stfemale = datafemale['Statistics']"
   ]
  },
  {
   "cell_type": "markdown",
   "id": "5aa592b0",
   "metadata": {},
   "source": [
    "## Applying T test on the two groups\n",
    "\n",
    "* Group-1: Male Candidates\n",
    "* Group-2: Female Candidates\n",
    "\n",
    "### T Test and Its Elements\n",
    "* Null Hypothesis: There is no significant difference between the two group means\n",
    "* Alternative Hypothesis: There is significant Difference between the two group means\n",
    "\n",
    "#### We reject the Null Hypothesis if the P-value is less or equal to the significance level, which is 0.05¶"
   ]
  },
  {
   "cell_type": "markdown",
   "id": "7f0e5817",
   "metadata": {},
   "source": [
    "#### Applying T Test on The Two Groups Bengali Score"
   ]
  },
  {
   "cell_type": "code",
   "execution_count": 9,
   "id": "efd64fff",
   "metadata": {},
   "outputs": [
    {
     "name": "stdout",
     "output_type": "stream",
     "text": [
      "t-statistic: 0.7959729188297807\n",
      "p-value: 0.42929362403688887\n",
      "There is no Significant Difference Between the Two group Means\n"
     ]
    }
   ],
   "source": [
    "# Conducting T Test\n",
    "t_statistic, p_value = ttest(bngmale , bngfemale)\n",
    "print(\"t-statistic:\", t_statistic)\n",
    "print(\"p-value:\", p_value)\n",
    "\n",
    "# Status of the Test\n",
    "if p_value <= 0.05:\n",
    "    print('There is Significant Difference between Two Group Means')\n",
    "else:\n",
    "    print('There is no Significant Difference Between the Two group Means')"
   ]
  },
  {
   "cell_type": "markdown",
   "id": "f7e7c7cb",
   "metadata": {},
   "source": [
    "#### Applying T Test on The Englisg Score"
   ]
  },
  {
   "cell_type": "code",
   "execution_count": 10,
   "id": "54404f2d",
   "metadata": {},
   "outputs": [
    {
     "name": "stdout",
     "output_type": "stream",
     "text": [
      "t-statistic: -0.23527177336368102\n",
      "p-value: 0.8148265157795027\n",
      "There is no Significant Difference Between the Two group Means\n"
     ]
    }
   ],
   "source": [
    "# Conducting T Test\n",
    "t_statistic, p_value = ttest(engmale , engfemale)\n",
    "print(\"t-statistic:\", t_statistic)\n",
    "print(\"p-value:\", p_value)\n",
    "\n",
    "# Status of the Test\n",
    "if p_value <= 0.05:\n",
    "    print('There is Significant Difference between Two Group Means')\n",
    "else:\n",
    "    print('There is no Significant Difference Between the Two group Means')"
   ]
  },
  {
   "cell_type": "markdown",
   "id": "d7a851d0",
   "metadata": {},
   "source": [
    "#### Applying T test on the History Score"
   ]
  },
  {
   "cell_type": "code",
   "execution_count": 11,
   "id": "fc97dc40",
   "metadata": {},
   "outputs": [
    {
     "name": "stdout",
     "output_type": "stream",
     "text": [
      "t-statistic: 0.42107547045565946\n",
      "p-value: 0.6752562862400109\n",
      "There is no Significant Difference Between the Two group Means\n"
     ]
    }
   ],
   "source": [
    "# Conducting T Test\n",
    "t_statistic, p_value = ttest(hismale , hisfemale)\n",
    "print(\"t-statistic:\", t_statistic)\n",
    "print(\"p-value:\", p_value)\n",
    "\n",
    "# Status of the Test\n",
    "if p_value <= 0.05:\n",
    "    print('There is Significant Difference between Two Group Means')\n",
    "else:\n",
    "    print('There is no Significant Difference Between the Two group Means')"
   ]
  },
  {
   "cell_type": "markdown",
   "id": "26cdfc29",
   "metadata": {},
   "source": [
    "#### Applying T test on Geography Score"
   ]
  },
  {
   "cell_type": "code",
   "execution_count": 12,
   "id": "179dcb9b",
   "metadata": {},
   "outputs": [
    {
     "name": "stdout",
     "output_type": "stream",
     "text": [
      "t-statistic: 0.49360655179379115\n",
      "p-value: 0.623448104884603\n",
      "There is no Significant Difference Between the Two group Means\n"
     ]
    }
   ],
   "source": [
    "# Conducting T Test\n",
    "t_statistic, p_value = ttest(geomale , geofemale)\n",
    "print(\"t-statistic:\", t_statistic)\n",
    "print(\"p-value:\", p_value)\n",
    "\n",
    "# Status of the Test\n",
    "if p_value <= 0.05:\n",
    "    print('There is Significant Difference between Two Group Means')\n",
    "else:\n",
    "    print('There is no Significant Difference Between the Two group Means')"
   ]
  },
  {
   "cell_type": "markdown",
   "id": "f9f1af82",
   "metadata": {},
   "source": [
    "#### Applying T test on Statistics Score"
   ]
  },
  {
   "cell_type": "code",
   "execution_count": 13,
   "id": "e637fa16",
   "metadata": {},
   "outputs": [
    {
     "name": "stdout",
     "output_type": "stream",
     "text": [
      "t-statistic: -0.34899965795793925\n",
      "p-value: 0.7283534105746869\n",
      "There is no Significant Difference Between the Two group Means\n"
     ]
    }
   ],
   "source": [
    "# Conducting T Test\n",
    "t_statistic, p_value = ttest(stmale , stfemale)\n",
    "print(\"t-statistic:\", t_statistic)\n",
    "print(\"p-value:\", p_value)\n",
    "\n",
    "# Status of the Test\n",
    "if p_value <= 0.05:\n",
    "    print('There is Significant Difference between Two Group Means')\n",
    "else:\n",
    "    print('There is no Significant Difference Between the Two group Means')"
   ]
  },
  {
   "cell_type": "markdown",
   "id": "4078b75a",
   "metadata": {},
   "source": [
    "### Tabulating Result for Each Subject"
   ]
  },
  {
   "cell_type": "code",
   "execution_count": 14,
   "id": "2cd4cd13",
   "metadata": {},
   "outputs": [
    {
     "data": {
      "text/html": [
       "<div>\n",
       "<style scoped>\n",
       "    .dataframe tbody tr th:only-of-type {\n",
       "        vertical-align: middle;\n",
       "    }\n",
       "\n",
       "    .dataframe tbody tr th {\n",
       "        vertical-align: top;\n",
       "    }\n",
       "\n",
       "    .dataframe thead th {\n",
       "        text-align: right;\n",
       "    }\n",
       "</style>\n",
       "<table border=\"1\" class=\"dataframe\">\n",
       "  <thead>\n",
       "    <tr style=\"text-align: right;\">\n",
       "      <th></th>\n",
       "      <th>Gr1</th>\n",
       "      <th>Gr2</th>\n",
       "      <th>Gr1_Mean</th>\n",
       "      <th>Gr2_Mean</th>\n",
       "      <th>Critical_Value</th>\n",
       "      <th>P_value</th>\n",
       "      <th>Status</th>\n",
       "    </tr>\n",
       "  </thead>\n",
       "  <tbody>\n",
       "    <tr>\n",
       "      <th>Bengali</th>\n",
       "      <td>Male</td>\n",
       "      <td>Female</td>\n",
       "      <td>30.4</td>\n",
       "      <td>27.866667</td>\n",
       "      <td>0.05</td>\n",
       "      <td>0.429</td>\n",
       "      <td>No Difference in Means</td>\n",
       "    </tr>\n",
       "  </tbody>\n",
       "</table>\n",
       "</div>"
      ],
      "text/plain": [
       "          Gr1     Gr2  Gr1_Mean   Gr2_Mean  Critical_Value  P_value  \\\n",
       "Bengali  Male  Female      30.4  27.866667            0.05    0.429   \n",
       "\n",
       "                         Status  \n",
       "Bengali  No Difference in Means  "
      ]
     },
     "execution_count": 14,
     "metadata": {},
     "output_type": "execute_result"
    }
   ],
   "source": [
    "# For Bengali Score\n",
    "\n",
    "reportbng = {'Gr1':['Male'], 'Gr2':['Female'], 'Gr1_Mean':[np.mean(bngmale)], 'Gr2_Mean':[np.mean(bngfemale)],\n",
    "             'Critical_Value':[0.05], 'P_value':[0.429], 'Status':['No Difference in Means']}\n",
    "reportbng = pd.DataFrame(reportbng)\n",
    "reportbng.index = ['Bengali']\n",
    "reportbng"
   ]
  },
  {
   "cell_type": "code",
   "execution_count": 15,
   "id": "f499a1fc",
   "metadata": {},
   "outputs": [
    {
     "data": {
      "text/html": [
       "<div>\n",
       "<style scoped>\n",
       "    .dataframe tbody tr th:only-of-type {\n",
       "        vertical-align: middle;\n",
       "    }\n",
       "\n",
       "    .dataframe tbody tr th {\n",
       "        vertical-align: top;\n",
       "    }\n",
       "\n",
       "    .dataframe thead th {\n",
       "        text-align: right;\n",
       "    }\n",
       "</style>\n",
       "<table border=\"1\" class=\"dataframe\">\n",
       "  <thead>\n",
       "    <tr style=\"text-align: right;\">\n",
       "      <th></th>\n",
       "      <th>Gr1</th>\n",
       "      <th>Gr2</th>\n",
       "      <th>Gr1_Mean</th>\n",
       "      <th>Gr2_Mean</th>\n",
       "      <th>Critical_Value</th>\n",
       "      <th>P_value</th>\n",
       "      <th>Status</th>\n",
       "    </tr>\n",
       "  </thead>\n",
       "  <tbody>\n",
       "    <tr>\n",
       "      <th>English</th>\n",
       "      <td>Male</td>\n",
       "      <td>Female</td>\n",
       "      <td>29.833333</td>\n",
       "      <td>30.666667</td>\n",
       "      <td>0.05</td>\n",
       "      <td>0.814</td>\n",
       "      <td>No Difference in Means</td>\n",
       "    </tr>\n",
       "  </tbody>\n",
       "</table>\n",
       "</div>"
      ],
      "text/plain": [
       "          Gr1     Gr2   Gr1_Mean   Gr2_Mean  Critical_Value  P_value  \\\n",
       "English  Male  Female  29.833333  30.666667            0.05    0.814   \n",
       "\n",
       "                         Status  \n",
       "English  No Difference in Means  "
      ]
     },
     "execution_count": 15,
     "metadata": {},
     "output_type": "execute_result"
    }
   ],
   "source": [
    "# For English Score\n",
    "\n",
    "reporteng = {'Gr1':['Male'], 'Gr2':['Female'], 'Gr1_Mean':[np.mean(engmale)], 'Gr2_Mean':[np.mean(engfemale)],\n",
    "             'Critical_Value':[0.05], 'P_value':[0.814], 'Status':['No Difference in Means']}\n",
    "reporteng = pd.DataFrame(reporteng)\n",
    "reporteng.index = ['English']\n",
    "reporteng"
   ]
  },
  {
   "cell_type": "code",
   "execution_count": 16,
   "id": "4fa34d94",
   "metadata": {},
   "outputs": [
    {
     "data": {
      "text/html": [
       "<div>\n",
       "<style scoped>\n",
       "    .dataframe tbody tr th:only-of-type {\n",
       "        vertical-align: middle;\n",
       "    }\n",
       "\n",
       "    .dataframe tbody tr th {\n",
       "        vertical-align: top;\n",
       "    }\n",
       "\n",
       "    .dataframe thead th {\n",
       "        text-align: right;\n",
       "    }\n",
       "</style>\n",
       "<table border=\"1\" class=\"dataframe\">\n",
       "  <thead>\n",
       "    <tr style=\"text-align: right;\">\n",
       "      <th></th>\n",
       "      <th>Gr1</th>\n",
       "      <th>Gr2</th>\n",
       "      <th>Gr1_Mean</th>\n",
       "      <th>Gr2_Mean</th>\n",
       "      <th>Critical_Value</th>\n",
       "      <th>P_value</th>\n",
       "      <th>Status</th>\n",
       "    </tr>\n",
       "  </thead>\n",
       "  <tbody>\n",
       "    <tr>\n",
       "      <th>History</th>\n",
       "      <td>Male</td>\n",
       "      <td>Female</td>\n",
       "      <td>29.633333</td>\n",
       "      <td>28.266667</td>\n",
       "      <td>0.05</td>\n",
       "      <td>0.675</td>\n",
       "      <td>No Difference in Means</td>\n",
       "    </tr>\n",
       "  </tbody>\n",
       "</table>\n",
       "</div>"
      ],
      "text/plain": [
       "          Gr1     Gr2   Gr1_Mean   Gr2_Mean  Critical_Value  P_value  \\\n",
       "History  Male  Female  29.633333  28.266667            0.05    0.675   \n",
       "\n",
       "                         Status  \n",
       "History  No Difference in Means  "
      ]
     },
     "execution_count": 16,
     "metadata": {},
     "output_type": "execute_result"
    }
   ],
   "source": [
    "# For History Score\n",
    "\n",
    "reporthis = {'Gr1':['Male'], 'Gr2':['Female'], 'Gr1_Mean':[np.mean(hismale)], 'Gr2_Mean':[np.mean(hisfemale)],\n",
    "             'Critical_Value':[0.05], 'P_value':[0.675], 'Status':['No Difference in Means']}\n",
    "reporthis = pd.DataFrame(reporthis)\n",
    "reporthis.index = ['History']\n",
    "reporthis"
   ]
  },
  {
   "cell_type": "code",
   "execution_count": 17,
   "id": "580d5cff",
   "metadata": {},
   "outputs": [
    {
     "data": {
      "text/html": [
       "<div>\n",
       "<style scoped>\n",
       "    .dataframe tbody tr th:only-of-type {\n",
       "        vertical-align: middle;\n",
       "    }\n",
       "\n",
       "    .dataframe tbody tr th {\n",
       "        vertical-align: top;\n",
       "    }\n",
       "\n",
       "    .dataframe thead th {\n",
       "        text-align: right;\n",
       "    }\n",
       "</style>\n",
       "<table border=\"1\" class=\"dataframe\">\n",
       "  <thead>\n",
       "    <tr style=\"text-align: right;\">\n",
       "      <th></th>\n",
       "      <th>Gr1</th>\n",
       "      <th>Gr2</th>\n",
       "      <th>Gr1_Mean</th>\n",
       "      <th>Gr2_Mean</th>\n",
       "      <th>Critical_Value</th>\n",
       "      <th>P_value</th>\n",
       "      <th>Status</th>\n",
       "    </tr>\n",
       "  </thead>\n",
       "  <tbody>\n",
       "    <tr>\n",
       "      <th>Geography</th>\n",
       "      <td>Male</td>\n",
       "      <td>Female</td>\n",
       "      <td>29.1</td>\n",
       "      <td>27.533333</td>\n",
       "      <td>0.05</td>\n",
       "      <td>0.623</td>\n",
       "      <td>No Difference in Means</td>\n",
       "    </tr>\n",
       "  </tbody>\n",
       "</table>\n",
       "</div>"
      ],
      "text/plain": [
       "            Gr1     Gr2  Gr1_Mean   Gr2_Mean  Critical_Value  P_value  \\\n",
       "Geography  Male  Female      29.1  27.533333            0.05    0.623   \n",
       "\n",
       "                           Status  \n",
       "Geography  No Difference in Means  "
      ]
     },
     "execution_count": 17,
     "metadata": {},
     "output_type": "execute_result"
    }
   ],
   "source": [
    "# For Geography Score\n",
    "\n",
    "reportgeo = {'Gr1':['Male'], 'Gr2':['Female'], 'Gr1_Mean':[np.mean(geomale)], 'Gr2_Mean':[np.mean(geofemale)],\n",
    "             'Critical_Value':[0.05], 'P_value':[0.623], 'Status':['No Difference in Means']}\n",
    "reportgeo = pd.DataFrame(reportgeo)\n",
    "reportgeo.index = ['Geography']\n",
    "reportgeo"
   ]
  },
  {
   "cell_type": "code",
   "execution_count": 18,
   "id": "500f18fa",
   "metadata": {},
   "outputs": [
    {
     "data": {
      "text/html": [
       "<div>\n",
       "<style scoped>\n",
       "    .dataframe tbody tr th:only-of-type {\n",
       "        vertical-align: middle;\n",
       "    }\n",
       "\n",
       "    .dataframe tbody tr th {\n",
       "        vertical-align: top;\n",
       "    }\n",
       "\n",
       "    .dataframe thead th {\n",
       "        text-align: right;\n",
       "    }\n",
       "</style>\n",
       "<table border=\"1\" class=\"dataframe\">\n",
       "  <thead>\n",
       "    <tr style=\"text-align: right;\">\n",
       "      <th></th>\n",
       "      <th>Gr1</th>\n",
       "      <th>Gr2</th>\n",
       "      <th>Gr1_Mean</th>\n",
       "      <th>Gr2_Mean</th>\n",
       "      <th>Critical_Value</th>\n",
       "      <th>P_value</th>\n",
       "      <th>Status</th>\n",
       "    </tr>\n",
       "  </thead>\n",
       "  <tbody>\n",
       "    <tr>\n",
       "      <th>Statistics</th>\n",
       "      <td>Male</td>\n",
       "      <td>Female</td>\n",
       "      <td>30.466667</td>\n",
       "      <td>31.533333</td>\n",
       "      <td>0.05</td>\n",
       "      <td>0.728</td>\n",
       "      <td>No Difference in Means</td>\n",
       "    </tr>\n",
       "  </tbody>\n",
       "</table>\n",
       "</div>"
      ],
      "text/plain": [
       "             Gr1     Gr2   Gr1_Mean   Gr2_Mean  Critical_Value  P_value  \\\n",
       "Statistics  Male  Female  30.466667  31.533333            0.05    0.728   \n",
       "\n",
       "                            Status  \n",
       "Statistics  No Difference in Means  "
      ]
     },
     "execution_count": 18,
     "metadata": {},
     "output_type": "execute_result"
    }
   ],
   "source": [
    "# For Statistics Score\n",
    "\n",
    "reportstat = {'Gr1':['Male'], 'Gr2':['Female'], 'Gr1_Mean':[np.mean(stmale)], 'Gr2_Mean':[np.mean(stfemale)],\n",
    "             'Critical_Value':[0.05], 'P_value':[0.728], 'Status':['No Difference in Means']}\n",
    "reportstat = pd.DataFrame(reportstat)\n",
    "reportstat.index = ['Statistics']\n",
    "reportstat"
   ]
  },
  {
   "cell_type": "markdown",
   "id": "3607db8b",
   "metadata": {},
   "source": [
    "### Final Result of this Notebook"
   ]
  },
  {
   "cell_type": "code",
   "execution_count": 19,
   "id": "6870198e",
   "metadata": {},
   "outputs": [
    {
     "data": {
      "text/html": [
       "<div>\n",
       "<style scoped>\n",
       "    .dataframe tbody tr th:only-of-type {\n",
       "        vertical-align: middle;\n",
       "    }\n",
       "\n",
       "    .dataframe tbody tr th {\n",
       "        vertical-align: top;\n",
       "    }\n",
       "\n",
       "    .dataframe thead th {\n",
       "        text-align: right;\n",
       "    }\n",
       "</style>\n",
       "<table border=\"1\" class=\"dataframe\">\n",
       "  <thead>\n",
       "    <tr style=\"text-align: right;\">\n",
       "      <th></th>\n",
       "      <th>Gr1</th>\n",
       "      <th>Gr2</th>\n",
       "      <th>Gr1_Mean</th>\n",
       "      <th>Gr2_Mean</th>\n",
       "      <th>Critical_Value</th>\n",
       "      <th>P_value</th>\n",
       "      <th>Status</th>\n",
       "    </tr>\n",
       "  </thead>\n",
       "  <tbody>\n",
       "    <tr>\n",
       "      <th>Bengali</th>\n",
       "      <td>Male</td>\n",
       "      <td>Female</td>\n",
       "      <td>30.400000</td>\n",
       "      <td>27.866667</td>\n",
       "      <td>0.05</td>\n",
       "      <td>0.429</td>\n",
       "      <td>No Difference in Means</td>\n",
       "    </tr>\n",
       "    <tr>\n",
       "      <th>English</th>\n",
       "      <td>Male</td>\n",
       "      <td>Female</td>\n",
       "      <td>29.833333</td>\n",
       "      <td>30.666667</td>\n",
       "      <td>0.05</td>\n",
       "      <td>0.814</td>\n",
       "      <td>No Difference in Means</td>\n",
       "    </tr>\n",
       "    <tr>\n",
       "      <th>History</th>\n",
       "      <td>Male</td>\n",
       "      <td>Female</td>\n",
       "      <td>29.633333</td>\n",
       "      <td>28.266667</td>\n",
       "      <td>0.05</td>\n",
       "      <td>0.675</td>\n",
       "      <td>No Difference in Means</td>\n",
       "    </tr>\n",
       "    <tr>\n",
       "      <th>Geography</th>\n",
       "      <td>Male</td>\n",
       "      <td>Female</td>\n",
       "      <td>29.100000</td>\n",
       "      <td>27.533333</td>\n",
       "      <td>0.05</td>\n",
       "      <td>0.623</td>\n",
       "      <td>No Difference in Means</td>\n",
       "    </tr>\n",
       "    <tr>\n",
       "      <th>Statistics</th>\n",
       "      <td>Male</td>\n",
       "      <td>Female</td>\n",
       "      <td>30.466667</td>\n",
       "      <td>31.533333</td>\n",
       "      <td>0.05</td>\n",
       "      <td>0.728</td>\n",
       "      <td>No Difference in Means</td>\n",
       "    </tr>\n",
       "  </tbody>\n",
       "</table>\n",
       "</div>"
      ],
      "text/plain": [
       "             Gr1     Gr2   Gr1_Mean   Gr2_Mean  Critical_Value  P_value  \\\n",
       "Bengali     Male  Female  30.400000  27.866667            0.05    0.429   \n",
       "English     Male  Female  29.833333  30.666667            0.05    0.814   \n",
       "History     Male  Female  29.633333  28.266667            0.05    0.675   \n",
       "Geography   Male  Female  29.100000  27.533333            0.05    0.623   \n",
       "Statistics  Male  Female  30.466667  31.533333            0.05    0.728   \n",
       "\n",
       "                            Status  \n",
       "Bengali     No Difference in Means  \n",
       "English     No Difference in Means  \n",
       "History     No Difference in Means  \n",
       "Geography   No Difference in Means  \n",
       "Statistics  No Difference in Means  "
      ]
     },
     "execution_count": 19,
     "metadata": {},
     "output_type": "execute_result"
    }
   ],
   "source": [
    "report2 = pd.concat([reportbng, reporteng, reporthis,reportgeo, reportstat], axis = 0)\n",
    "report2"
   ]
  },
  {
   "cell_type": "markdown",
   "id": "0c952eac",
   "metadata": {},
   "source": [
    "### Exporting Report2"
   ]
  },
  {
   "cell_type": "code",
   "execution_count": 20,
   "id": "7fc4bfa7",
   "metadata": {},
   "outputs": [],
   "source": [
    "file_path = 'Ttest_report2.csv'\n",
    "report2.to_csv(file_path, index = True)"
   ]
  },
  {
   "cell_type": "code",
   "execution_count": null,
   "id": "b9343218",
   "metadata": {},
   "outputs": [],
   "source": []
  }
 ],
 "metadata": {
  "kernelspec": {
   "display_name": "Python 3 (ipykernel)",
   "language": "python",
   "name": "python3"
  },
  "language_info": {
   "codemirror_mode": {
    "name": "ipython",
    "version": 3
   },
   "file_extension": ".py",
   "mimetype": "text/x-python",
   "name": "python",
   "nbconvert_exporter": "python",
   "pygments_lexer": "ipython3",
   "version": "3.11.5"
  }
 },
 "nbformat": 4,
 "nbformat_minor": 5
}
