{
 "cells": [
  {
   "cell_type": "code",
   "execution_count": 1,
   "id": "aaf49c15",
   "metadata": {},
   "outputs": [],
   "source": [
    "# Importing all Required Packages\n",
    "\n",
    "import numpy as np\n",
    "import pandas as pd\n",
    "import matplotlib.pyplot as plt\n",
    "import seaborn as sns\n",
    "from scipy.stats import ttest_ind as ttest\n",
    "import os\n",
    "%matplotlib inline"
   ]
  },
  {
   "cell_type": "code",
   "execution_count": 2,
   "id": "b30b5355",
   "metadata": {},
   "outputs": [
    {
     "data": {
      "text/html": [
       "<div>\n",
       "<style scoped>\n",
       "    .dataframe tbody tr th:only-of-type {\n",
       "        vertical-align: middle;\n",
       "    }\n",
       "\n",
       "    .dataframe tbody tr th {\n",
       "        vertical-align: top;\n",
       "    }\n",
       "\n",
       "    .dataframe thead th {\n",
       "        text-align: right;\n",
       "    }\n",
       "</style>\n",
       "<table border=\"1\" class=\"dataframe\">\n",
       "  <thead>\n",
       "    <tr style=\"text-align: right;\">\n",
       "      <th></th>\n",
       "      <th>Name</th>\n",
       "      <th>Maths</th>\n",
       "      <th>Physics</th>\n",
       "      <th>Chemistry</th>\n",
       "      <th>Biology</th>\n",
       "      <th>ComputerScience</th>\n",
       "      <th>Bengali</th>\n",
       "      <th>English</th>\n",
       "      <th>History</th>\n",
       "      <th>Geography</th>\n",
       "      <th>Statistics</th>\n",
       "      <th>Gender</th>\n",
       "    </tr>\n",
       "  </thead>\n",
       "  <tbody>\n",
       "    <tr>\n",
       "      <th>0</th>\n",
       "      <td>Aniket</td>\n",
       "      <td>37</td>\n",
       "      <td>34</td>\n",
       "      <td>24</td>\n",
       "      <td>15</td>\n",
       "      <td>48</td>\n",
       "      <td>45</td>\n",
       "      <td>15</td>\n",
       "      <td>45</td>\n",
       "      <td>45</td>\n",
       "      <td>45</td>\n",
       "      <td>M</td>\n",
       "    </tr>\n",
       "    <tr>\n",
       "      <th>1</th>\n",
       "      <td>Aarav</td>\n",
       "      <td>32</td>\n",
       "      <td>34</td>\n",
       "      <td>48</td>\n",
       "      <td>25</td>\n",
       "      <td>14</td>\n",
       "      <td>45</td>\n",
       "      <td>14</td>\n",
       "      <td>12</td>\n",
       "      <td>12</td>\n",
       "      <td>12</td>\n",
       "      <td>M</td>\n",
       "    </tr>\n",
       "    <tr>\n",
       "      <th>2</th>\n",
       "      <td>Aashi</td>\n",
       "      <td>32</td>\n",
       "      <td>34</td>\n",
       "      <td>45</td>\n",
       "      <td>40</td>\n",
       "      <td>15</td>\n",
       "      <td>23</td>\n",
       "      <td>45</td>\n",
       "      <td>46</td>\n",
       "      <td>13</td>\n",
       "      <td>46</td>\n",
       "      <td>F</td>\n",
       "    </tr>\n",
       "    <tr>\n",
       "      <th>3</th>\n",
       "      <td>Aayush</td>\n",
       "      <td>35</td>\n",
       "      <td>31</td>\n",
       "      <td>25</td>\n",
       "      <td>41</td>\n",
       "      <td>25</td>\n",
       "      <td>12</td>\n",
       "      <td>12</td>\n",
       "      <td>48</td>\n",
       "      <td>46</td>\n",
       "      <td>12</td>\n",
       "      <td>M</td>\n",
       "    </tr>\n",
       "    <tr>\n",
       "      <th>4</th>\n",
       "      <td>Aditi</td>\n",
       "      <td>26</td>\n",
       "      <td>33</td>\n",
       "      <td>45</td>\n",
       "      <td>39</td>\n",
       "      <td>48</td>\n",
       "      <td>47</td>\n",
       "      <td>14</td>\n",
       "      <td>23</td>\n",
       "      <td>48</td>\n",
       "      <td>48</td>\n",
       "      <td>F</td>\n",
       "    </tr>\n",
       "  </tbody>\n",
       "</table>\n",
       "</div>"
      ],
      "text/plain": [
       "     Name  Maths  Physics  Chemistry  Biology  ComputerScience  Bengali  \\\n",
       "0  Aniket     37       34         24       15               48       45   \n",
       "1   Aarav     32       34         48       25               14       45   \n",
       "2   Aashi     32       34         45       40               15       23   \n",
       "3  Aayush     35       31         25       41               25       12   \n",
       "4   Aditi     26       33         45       39               48       47   \n",
       "\n",
       "   English  History  Geography  Statistics Gender  \n",
       "0       15       45         45          45      M  \n",
       "1       14       12         12          12      M  \n",
       "2       45       46         13          46      F  \n",
       "3       12       48         46          12      M  \n",
       "4       14       23         48          48      F  "
      ]
     },
     "execution_count": 2,
     "metadata": {},
     "output_type": "execute_result"
    }
   ],
   "source": [
    "# Reading the Data set\n",
    "\n",
    "data = pd.read_csv('StatisticalTest_Data.csv')\n",
    "data.head()"
   ]
  },
  {
   "cell_type": "code",
   "execution_count": 4,
   "id": "530cc389",
   "metadata": {},
   "outputs": [],
   "source": [
    "# Creating two different data sets from the dataframe data\n",
    "# datamale contains the scores for male candidates\n",
    "# datafemale contains the scores for female candidates\n",
    "\n",
    "datamale = data[data['Gender'] == 'M']\n",
    "datafemale = data[data['Gender'] == 'F']"
   ]
  },
  {
   "cell_type": "markdown",
   "id": "3dd50d7d",
   "metadata": {},
   "source": [
    "### Checking the datamle data frame"
   ]
  },
  {
   "cell_type": "code",
   "execution_count": 5,
   "id": "ec394755",
   "metadata": {},
   "outputs": [
    {
     "data": {
      "text/html": [
       "<div>\n",
       "<style scoped>\n",
       "    .dataframe tbody tr th:only-of-type {\n",
       "        vertical-align: middle;\n",
       "    }\n",
       "\n",
       "    .dataframe tbody tr th {\n",
       "        vertical-align: top;\n",
       "    }\n",
       "\n",
       "    .dataframe thead th {\n",
       "        text-align: right;\n",
       "    }\n",
       "</style>\n",
       "<table border=\"1\" class=\"dataframe\">\n",
       "  <thead>\n",
       "    <tr style=\"text-align: right;\">\n",
       "      <th></th>\n",
       "      <th>Name</th>\n",
       "      <th>Maths</th>\n",
       "      <th>Physics</th>\n",
       "      <th>Chemistry</th>\n",
       "      <th>Biology</th>\n",
       "      <th>ComputerScience</th>\n",
       "      <th>Bengali</th>\n",
       "      <th>English</th>\n",
       "      <th>History</th>\n",
       "      <th>Geography</th>\n",
       "      <th>Statistics</th>\n",
       "      <th>Gender</th>\n",
       "    </tr>\n",
       "  </thead>\n",
       "  <tbody>\n",
       "    <tr>\n",
       "      <th>0</th>\n",
       "      <td>Aniket</td>\n",
       "      <td>37</td>\n",
       "      <td>34</td>\n",
       "      <td>24</td>\n",
       "      <td>15</td>\n",
       "      <td>48</td>\n",
       "      <td>45</td>\n",
       "      <td>15</td>\n",
       "      <td>45</td>\n",
       "      <td>45</td>\n",
       "      <td>45</td>\n",
       "      <td>M</td>\n",
       "    </tr>\n",
       "    <tr>\n",
       "      <th>1</th>\n",
       "      <td>Aarav</td>\n",
       "      <td>32</td>\n",
       "      <td>34</td>\n",
       "      <td>48</td>\n",
       "      <td>25</td>\n",
       "      <td>14</td>\n",
       "      <td>45</td>\n",
       "      <td>14</td>\n",
       "      <td>12</td>\n",
       "      <td>12</td>\n",
       "      <td>12</td>\n",
       "      <td>M</td>\n",
       "    </tr>\n",
       "    <tr>\n",
       "      <th>3</th>\n",
       "      <td>Aayush</td>\n",
       "      <td>35</td>\n",
       "      <td>31</td>\n",
       "      <td>25</td>\n",
       "      <td>41</td>\n",
       "      <td>25</td>\n",
       "      <td>12</td>\n",
       "      <td>12</td>\n",
       "      <td>48</td>\n",
       "      <td>46</td>\n",
       "      <td>12</td>\n",
       "      <td>M</td>\n",
       "    </tr>\n",
       "    <tr>\n",
       "      <th>5</th>\n",
       "      <td>Advait</td>\n",
       "      <td>30</td>\n",
       "      <td>27</td>\n",
       "      <td>47</td>\n",
       "      <td>5</td>\n",
       "      <td>47</td>\n",
       "      <td>14</td>\n",
       "      <td>25</td>\n",
       "      <td>28</td>\n",
       "      <td>25</td>\n",
       "      <td>6</td>\n",
       "      <td>M</td>\n",
       "    </tr>\n",
       "    <tr>\n",
       "      <th>6</th>\n",
       "      <td>Akshay</td>\n",
       "      <td>33</td>\n",
       "      <td>28</td>\n",
       "      <td>33</td>\n",
       "      <td>12</td>\n",
       "      <td>15</td>\n",
       "      <td>21</td>\n",
       "      <td>45</td>\n",
       "      <td>23</td>\n",
       "      <td>21</td>\n",
       "      <td>34</td>\n",
       "      <td>M</td>\n",
       "    </tr>\n",
       "  </tbody>\n",
       "</table>\n",
       "</div>"
      ],
      "text/plain": [
       "     Name  Maths  Physics  Chemistry  Biology  ComputerScience  Bengali  \\\n",
       "0  Aniket     37       34         24       15               48       45   \n",
       "1   Aarav     32       34         48       25               14       45   \n",
       "3  Aayush     35       31         25       41               25       12   \n",
       "5  Advait     30       27         47        5               47       14   \n",
       "6  Akshay     33       28         33       12               15       21   \n",
       "\n",
       "   English  History  Geography  Statistics Gender  \n",
       "0       15       45         45          45      M  \n",
       "1       14       12         12          12      M  \n",
       "3       12       48         46          12      M  \n",
       "5       25       28         25           6      M  \n",
       "6       45       23         21          34      M  "
      ]
     },
     "execution_count": 5,
     "metadata": {},
     "output_type": "execute_result"
    }
   ],
   "source": [
    "# First Few Rows\n",
    "datamale.head()"
   ]
  },
  {
   "cell_type": "code",
   "execution_count": 6,
   "id": "42e041b7",
   "metadata": {},
   "outputs": [
    {
     "name": "stdout",
     "output_type": "stream",
     "text": [
      "Number of Columns: 12\n",
      "Number of Rows: 30\n"
     ]
    }
   ],
   "source": [
    "# Shape of the datamale dataframe\n",
    "print('Number of Columns:', datamale.shape[1])\n",
    "print('Number of Rows:', datamale.shape[0])"
   ]
  },
  {
   "cell_type": "markdown",
   "id": "7cc197c9",
   "metadata": {},
   "source": [
    "### Checking the datafemale column"
   ]
  },
  {
   "cell_type": "code",
   "execution_count": 7,
   "id": "b52850b4",
   "metadata": {},
   "outputs": [
    {
     "data": {
      "text/html": [
       "<div>\n",
       "<style scoped>\n",
       "    .dataframe tbody tr th:only-of-type {\n",
       "        vertical-align: middle;\n",
       "    }\n",
       "\n",
       "    .dataframe tbody tr th {\n",
       "        vertical-align: top;\n",
       "    }\n",
       "\n",
       "    .dataframe thead th {\n",
       "        text-align: right;\n",
       "    }\n",
       "</style>\n",
       "<table border=\"1\" class=\"dataframe\">\n",
       "  <thead>\n",
       "    <tr style=\"text-align: right;\">\n",
       "      <th></th>\n",
       "      <th>Name</th>\n",
       "      <th>Maths</th>\n",
       "      <th>Physics</th>\n",
       "      <th>Chemistry</th>\n",
       "      <th>Biology</th>\n",
       "      <th>ComputerScience</th>\n",
       "      <th>Bengali</th>\n",
       "      <th>English</th>\n",
       "      <th>History</th>\n",
       "      <th>Geography</th>\n",
       "      <th>Statistics</th>\n",
       "      <th>Gender</th>\n",
       "    </tr>\n",
       "  </thead>\n",
       "  <tbody>\n",
       "    <tr>\n",
       "      <th>2</th>\n",
       "      <td>Aashi</td>\n",
       "      <td>32</td>\n",
       "      <td>34</td>\n",
       "      <td>45</td>\n",
       "      <td>40</td>\n",
       "      <td>15</td>\n",
       "      <td>23</td>\n",
       "      <td>45</td>\n",
       "      <td>46</td>\n",
       "      <td>13</td>\n",
       "      <td>46</td>\n",
       "      <td>F</td>\n",
       "    </tr>\n",
       "    <tr>\n",
       "      <th>4</th>\n",
       "      <td>Aditi</td>\n",
       "      <td>26</td>\n",
       "      <td>33</td>\n",
       "      <td>45</td>\n",
       "      <td>39</td>\n",
       "      <td>48</td>\n",
       "      <td>47</td>\n",
       "      <td>14</td>\n",
       "      <td>23</td>\n",
       "      <td>48</td>\n",
       "      <td>48</td>\n",
       "      <td>F</td>\n",
       "    </tr>\n",
       "    <tr>\n",
       "      <th>7</th>\n",
       "      <td>Alisha</td>\n",
       "      <td>36</td>\n",
       "      <td>31</td>\n",
       "      <td>31</td>\n",
       "      <td>45</td>\n",
       "      <td>26</td>\n",
       "      <td>5</td>\n",
       "      <td>12</td>\n",
       "      <td>29</td>\n",
       "      <td>36</td>\n",
       "      <td>36</td>\n",
       "      <td>F</td>\n",
       "    </tr>\n",
       "    <tr>\n",
       "      <th>9</th>\n",
       "      <td>Amrita</td>\n",
       "      <td>40</td>\n",
       "      <td>36</td>\n",
       "      <td>5</td>\n",
       "      <td>20</td>\n",
       "      <td>25</td>\n",
       "      <td>31</td>\n",
       "      <td>32</td>\n",
       "      <td>12</td>\n",
       "      <td>45</td>\n",
       "      <td>39</td>\n",
       "      <td>F</td>\n",
       "    </tr>\n",
       "    <tr>\n",
       "      <th>10</th>\n",
       "      <td>Ananya</td>\n",
       "      <td>35</td>\n",
       "      <td>38</td>\n",
       "      <td>43</td>\n",
       "      <td>23</td>\n",
       "      <td>45</td>\n",
       "      <td>23</td>\n",
       "      <td>24</td>\n",
       "      <td>18</td>\n",
       "      <td>6</td>\n",
       "      <td>12</td>\n",
       "      <td>F</td>\n",
       "    </tr>\n",
       "  </tbody>\n",
       "</table>\n",
       "</div>"
      ],
      "text/plain": [
       "      Name  Maths  Physics  Chemistry  Biology  ComputerScience  Bengali  \\\n",
       "2    Aashi     32       34         45       40               15       23   \n",
       "4    Aditi     26       33         45       39               48       47   \n",
       "7   Alisha     36       31         31       45               26        5   \n",
       "9   Amrita     40       36          5       20               25       31   \n",
       "10  Ananya     35       38         43       23               45       23   \n",
       "\n",
       "    English  History  Geography  Statistics Gender  \n",
       "2        45       46         13          46      F  \n",
       "4        14       23         48          48      F  \n",
       "7        12       29         36          36      F  \n",
       "9        32       12         45          39      F  \n",
       "10       24       18          6          12      F  "
      ]
     },
     "execution_count": 7,
     "metadata": {},
     "output_type": "execute_result"
    }
   ],
   "source": [
    "# First Few Rows of datafemale dataframe\n",
    "datafemale.head()"
   ]
  },
  {
   "cell_type": "code",
   "execution_count": 8,
   "id": "28a1024d",
   "metadata": {},
   "outputs": [
    {
     "name": "stdout",
     "output_type": "stream",
     "text": [
      "Number of Columns: 12\n",
      "Number of Rows: 30\n"
     ]
    }
   ],
   "source": [
    "# Shape of datafemale\n",
    "print('Number of Columns:', datafemale.shape[1])\n",
    "print('Number of Rows:', datafemale.shape[0])"
   ]
  },
  {
   "cell_type": "markdown",
   "id": "55bc819b",
   "metadata": {},
   "source": [
    "### Extracting Marks of Different Subjects for Different data frames"
   ]
  },
  {
   "cell_type": "code",
   "execution_count": 9,
   "id": "e3d2223c",
   "metadata": {},
   "outputs": [],
   "source": [
    "# Extracting Marks for Male Candidates\n",
    "\n",
    "mathmale = datamale['Maths']\n",
    "phymale = datamale['Physics']\n",
    "chemmale = datamale['Chemistry']\n",
    "biomale = datamale['Biology']\n",
    "csmale = datamale['ComputerScience']\n",
    "\n",
    "# Extracting Marks for Female Candidates\n",
    "mathfemale = datafemale['Maths']\n",
    "phyfemale = datafemale['Physics']\n",
    "chemfemale = datafemale['Chemistry']\n",
    "biofemale = datafemale['Biology']\n",
    "csfemale = datafemale['ComputerScience']"
   ]
  },
  {
   "cell_type": "markdown",
   "id": "91ecfa54",
   "metadata": {},
   "source": [
    "## Applying T test on the two groups\n",
    "\n",
    "* Group-1: Male Candidates\n",
    "* Group-2: Female Candidates\n",
    "\n",
    "### T Test and Its Elements\n",
    "\n",
    "* Null Hypothesis: There is no significant difference between the two group means\n",
    "* Alternative Hypothesis: There is significant Difference between the two group means\n",
    "\n",
    "#### We reject the Null Hypothesis if the P-value is less or equal to the significance level, which is 0.05"
   ]
  },
  {
   "cell_type": "markdown",
   "id": "0fdab518",
   "metadata": {},
   "source": [
    "#### Applying T Test on The Two Groups Maths Score"
   ]
  },
  {
   "cell_type": "code",
   "execution_count": 11,
   "id": "324ab3cb",
   "metadata": {},
   "outputs": [
    {
     "name": "stdout",
     "output_type": "stream",
     "text": [
      "t-statistic: -0.5258861962351994\n",
      "p-value: 0.6009723356710608\n",
      "There is no Significant Difference Between the Two group Means\n"
     ]
    }
   ],
   "source": [
    "# Conducting T Test\n",
    "t_statistic, p_value = ttest(mathmale , mathfemale)\n",
    "print(\"t-statistic:\", t_statistic)\n",
    "print(\"p-value:\", p_value)\n",
    "\n",
    "# Status of the Test\n",
    "if p_value <= 0.05:\n",
    "    print('There is Significant Difference between Two Group Means')\n",
    "else:\n",
    "    print('There is no Significant Difference Between the Two group Means')"
   ]
  },
  {
   "cell_type": "markdown",
   "id": "2fa70cbf",
   "metadata": {},
   "source": [
    "#### Applying T Test on The Physics Score"
   ]
  },
  {
   "cell_type": "code",
   "execution_count": 12,
   "id": "f4686515",
   "metadata": {},
   "outputs": [
    {
     "name": "stdout",
     "output_type": "stream",
     "text": [
      "t-statistic: 1.2172445522856656\n",
      "p-value: 0.22844077427411352\n",
      "There is no Significant Difference Between the Two group Means\n"
     ]
    }
   ],
   "source": [
    "# Conducting T Test\n",
    "t_statistic, p_value = ttest(phymale , phyfemale)\n",
    "print(\"t-statistic:\", t_statistic)\n",
    "print(\"p-value:\", p_value)\n",
    "\n",
    "# Status of the Test\n",
    "if p_value <= 0.05:\n",
    "    print('There is Significant Difference between Two Group Means')\n",
    "else:\n",
    "    print('There is no Significant Difference Between the Two group Means')"
   ]
  },
  {
   "cell_type": "markdown",
   "id": "0b135a59",
   "metadata": {},
   "source": [
    "#### Applying T Test on the Chemistry Score"
   ]
  },
  {
   "cell_type": "code",
   "execution_count": 13,
   "id": "03197102",
   "metadata": {},
   "outputs": [
    {
     "name": "stdout",
     "output_type": "stream",
     "text": [
      "t-statistic: 0.9727025131385346\n",
      "p-value: 0.3347404945124298\n",
      "There is no Significant Difference Between the Two group Means\n"
     ]
    }
   ],
   "source": [
    "# Conducting T Test\n",
    "t_statistic, p_value = ttest(chemmale , chemfemale)\n",
    "print(\"t-statistic:\", t_statistic)\n",
    "print(\"p-value:\", p_value)\n",
    "\n",
    "# Status of the Test\n",
    "if p_value <= 0.05:\n",
    "    print('There is Significant Difference between Two Group Means')\n",
    "else:\n",
    "    print('There is no Significant Difference Between the Two group Means')"
   ]
  },
  {
   "cell_type": "markdown",
   "id": "76537267",
   "metadata": {},
   "source": [
    "#### Applying T Test on Biology Data"
   ]
  },
  {
   "cell_type": "code",
   "execution_count": 14,
   "id": "ae5d59a6",
   "metadata": {},
   "outputs": [
    {
     "name": "stdout",
     "output_type": "stream",
     "text": [
      "t-statistic: -0.6618695691130347\n",
      "p-value: 0.5106760185365216\n",
      "There is no Significant Difference Between the Two group Means\n"
     ]
    }
   ],
   "source": [
    "# Conducting T Test\n",
    "t_statistic, p_value = ttest(biomale , biofemale)\n",
    "print(\"t-statistic:\", t_statistic)\n",
    "print(\"p-value:\", p_value)\n",
    "\n",
    "# Status of the Test\n",
    "if p_value <= 0.05:\n",
    "    print('There is Significant Difference between Two Group Means')\n",
    "else:\n",
    "    print('There is no Significant Difference Between the Two group Means')"
   ]
  },
  {
   "cell_type": "markdown",
   "id": "aee2fabe",
   "metadata": {},
   "source": [
    "#### Applying T Test on ComputerScience Score"
   ]
  },
  {
   "cell_type": "code",
   "execution_count": 15,
   "id": "d08d4176",
   "metadata": {},
   "outputs": [
    {
     "name": "stdout",
     "output_type": "stream",
     "text": [
      "t-statistic: 0.3898569200121765\n",
      "p-value: 0.6980703348540764\n",
      "There is no Significant Difference Between the Two group Means\n"
     ]
    }
   ],
   "source": [
    "# Conducting T Test\n",
    "t_statistic, p_value = ttest(csmale , csfemale)\n",
    "print(\"t-statistic:\", t_statistic)\n",
    "print(\"p-value:\", p_value)\n",
    "\n",
    "# Status of the Test\n",
    "if p_value <= 0.05:\n",
    "    print('There is Significant Difference between Two Group Means')\n",
    "else:\n",
    "    print('There is no Significant Difference Between the Two group Means')"
   ]
  },
  {
   "cell_type": "markdown",
   "id": "ef92d591",
   "metadata": {},
   "source": [
    "### Tabulating The Results for Each Subject"
   ]
  },
  {
   "cell_type": "code",
   "execution_count": 17,
   "id": "5a67455b",
   "metadata": {},
   "outputs": [
    {
     "data": {
      "text/html": [
       "<div>\n",
       "<style scoped>\n",
       "    .dataframe tbody tr th:only-of-type {\n",
       "        vertical-align: middle;\n",
       "    }\n",
       "\n",
       "    .dataframe tbody tr th {\n",
       "        vertical-align: top;\n",
       "    }\n",
       "\n",
       "    .dataframe thead th {\n",
       "        text-align: right;\n",
       "    }\n",
       "</style>\n",
       "<table border=\"1\" class=\"dataframe\">\n",
       "  <thead>\n",
       "    <tr style=\"text-align: right;\">\n",
       "      <th></th>\n",
       "      <th>Gr1</th>\n",
       "      <th>Gr2</th>\n",
       "      <th>Gr1_Mean</th>\n",
       "      <th>Gr2_Mean</th>\n",
       "      <th>Critical_Value</th>\n",
       "      <th>P_value</th>\n",
       "      <th>Status</th>\n",
       "    </tr>\n",
       "  </thead>\n",
       "  <tbody>\n",
       "    <tr>\n",
       "      <th>Mathematics</th>\n",
       "      <td>Male</td>\n",
       "      <td>Female</td>\n",
       "      <td>32.866667</td>\n",
       "      <td>33.266667</td>\n",
       "      <td>0.05</td>\n",
       "      <td>0.6</td>\n",
       "      <td>No Difference in Means</td>\n",
       "    </tr>\n",
       "  </tbody>\n",
       "</table>\n",
       "</div>"
      ],
      "text/plain": [
       "              Gr1     Gr2   Gr1_Mean   Gr2_Mean  Critical_Value  P_value  \\\n",
       "Mathematics  Male  Female  32.866667  33.266667            0.05      0.6   \n",
       "\n",
       "                             Status  \n",
       "Mathematics  No Difference in Means  "
      ]
     },
     "execution_count": 17,
     "metadata": {},
     "output_type": "execute_result"
    }
   ],
   "source": [
    "# For Maths Score\n",
    "\n",
    "reportmath = {'Gr1':['Male'], 'Gr2':['Female'], 'Gr1_Mean':[np.mean(mathmale)], 'Gr2_Mean':[np.mean(mathfemale)],\n",
    "             'Critical_Value':[0.05], 'P_value':[0.6], 'Status':['No Difference in Means']}\n",
    "reportmath = pd.DataFrame(reportmath)\n",
    "reportmath.index = ['Mathematics']\n",
    "reportmath"
   ]
  },
  {
   "cell_type": "code",
   "execution_count": 18,
   "id": "89a4f2bc",
   "metadata": {},
   "outputs": [
    {
     "data": {
      "text/html": [
       "<div>\n",
       "<style scoped>\n",
       "    .dataframe tbody tr th:only-of-type {\n",
       "        vertical-align: middle;\n",
       "    }\n",
       "\n",
       "    .dataframe tbody tr th {\n",
       "        vertical-align: top;\n",
       "    }\n",
       "\n",
       "    .dataframe thead th {\n",
       "        text-align: right;\n",
       "    }\n",
       "</style>\n",
       "<table border=\"1\" class=\"dataframe\">\n",
       "  <thead>\n",
       "    <tr style=\"text-align: right;\">\n",
       "      <th></th>\n",
       "      <th>Gr1</th>\n",
       "      <th>Gr2</th>\n",
       "      <th>Gr1_Mean</th>\n",
       "      <th>Gr2_Mean</th>\n",
       "      <th>Critical_Value</th>\n",
       "      <th>P_value</th>\n",
       "      <th>Status</th>\n",
       "    </tr>\n",
       "  </thead>\n",
       "  <tbody>\n",
       "    <tr>\n",
       "      <th>Physics</th>\n",
       "      <td>Male</td>\n",
       "      <td>Female</td>\n",
       "      <td>33.333333</td>\n",
       "      <td>32.3</td>\n",
       "      <td>0.05</td>\n",
       "      <td>0.228</td>\n",
       "      <td>No Difference in Means</td>\n",
       "    </tr>\n",
       "  </tbody>\n",
       "</table>\n",
       "</div>"
      ],
      "text/plain": [
       "          Gr1     Gr2   Gr1_Mean  Gr2_Mean  Critical_Value  P_value  \\\n",
       "Physics  Male  Female  33.333333      32.3            0.05    0.228   \n",
       "\n",
       "                         Status  \n",
       "Physics  No Difference in Means  "
      ]
     },
     "execution_count": 18,
     "metadata": {},
     "output_type": "execute_result"
    }
   ],
   "source": [
    "# For Physics Score\n",
    "\n",
    "reportphy = {'Gr1':['Male'], 'Gr2':['Female'], 'Gr1_Mean':[np.mean(phymale)], 'Gr2_Mean':[np.mean(phyfemale)],\n",
    "             'Critical_Value':[0.05], 'P_value':[0.228], 'Status':['No Difference in Means']}\n",
    "reportphy = pd.DataFrame(reportphy)\n",
    "reportphy.index = ['Physics']\n",
    "reportphy"
   ]
  },
  {
   "cell_type": "code",
   "execution_count": 19,
   "id": "53afc2eb",
   "metadata": {},
   "outputs": [
    {
     "data": {
      "text/html": [
       "<div>\n",
       "<style scoped>\n",
       "    .dataframe tbody tr th:only-of-type {\n",
       "        vertical-align: middle;\n",
       "    }\n",
       "\n",
       "    .dataframe tbody tr th {\n",
       "        vertical-align: top;\n",
       "    }\n",
       "\n",
       "    .dataframe thead th {\n",
       "        text-align: right;\n",
       "    }\n",
       "</style>\n",
       "<table border=\"1\" class=\"dataframe\">\n",
       "  <thead>\n",
       "    <tr style=\"text-align: right;\">\n",
       "      <th></th>\n",
       "      <th>Gr1</th>\n",
       "      <th>Gr2</th>\n",
       "      <th>Gr1_Mean</th>\n",
       "      <th>Gr2_Mean</th>\n",
       "      <th>Critical_Value</th>\n",
       "      <th>P_value</th>\n",
       "      <th>Status</th>\n",
       "    </tr>\n",
       "  </thead>\n",
       "  <tbody>\n",
       "    <tr>\n",
       "      <th>Chemistry</th>\n",
       "      <td>Male</td>\n",
       "      <td>Female</td>\n",
       "      <td>32.6</td>\n",
       "      <td>29.566667</td>\n",
       "      <td>0.05</td>\n",
       "      <td>0.334</td>\n",
       "      <td>No Difference in Means</td>\n",
       "    </tr>\n",
       "  </tbody>\n",
       "</table>\n",
       "</div>"
      ],
      "text/plain": [
       "            Gr1     Gr2  Gr1_Mean   Gr2_Mean  Critical_Value  P_value  \\\n",
       "Chemistry  Male  Female      32.6  29.566667            0.05    0.334   \n",
       "\n",
       "                           Status  \n",
       "Chemistry  No Difference in Means  "
      ]
     },
     "execution_count": 19,
     "metadata": {},
     "output_type": "execute_result"
    }
   ],
   "source": [
    "# For Chemistry Score\n",
    "\n",
    "reportchem = {'Gr1':['Male'], 'Gr2':['Female'], 'Gr1_Mean':[np.mean(chemmale)], 'Gr2_Mean':[np.mean(chemfemale)],\n",
    "             'Critical_Value':[0.05], 'P_value':[0.334], 'Status':['No Difference in Means']}\n",
    "reportchem = pd.DataFrame(reportchem)\n",
    "reportchem.index = ['Chemistry']\n",
    "reportchem"
   ]
  },
  {
   "cell_type": "code",
   "execution_count": 20,
   "id": "6a077431",
   "metadata": {},
   "outputs": [
    {
     "data": {
      "text/html": [
       "<div>\n",
       "<style scoped>\n",
       "    .dataframe tbody tr th:only-of-type {\n",
       "        vertical-align: middle;\n",
       "    }\n",
       "\n",
       "    .dataframe tbody tr th {\n",
       "        vertical-align: top;\n",
       "    }\n",
       "\n",
       "    .dataframe thead th {\n",
       "        text-align: right;\n",
       "    }\n",
       "</style>\n",
       "<table border=\"1\" class=\"dataframe\">\n",
       "  <thead>\n",
       "    <tr style=\"text-align: right;\">\n",
       "      <th></th>\n",
       "      <th>Gr1</th>\n",
       "      <th>Gr2</th>\n",
       "      <th>Gr1_Mean</th>\n",
       "      <th>Gr2_Mean</th>\n",
       "      <th>Critical_Value</th>\n",
       "      <th>P_value</th>\n",
       "      <th>Status</th>\n",
       "    </tr>\n",
       "  </thead>\n",
       "  <tbody>\n",
       "    <tr>\n",
       "      <th>Biology</th>\n",
       "      <td>Male</td>\n",
       "      <td>Female</td>\n",
       "      <td>28.466667</td>\n",
       "      <td>30.666667</td>\n",
       "      <td>0.05</td>\n",
       "      <td>0.51</td>\n",
       "      <td>No Difference in Means</td>\n",
       "    </tr>\n",
       "  </tbody>\n",
       "</table>\n",
       "</div>"
      ],
      "text/plain": [
       "          Gr1     Gr2   Gr1_Mean   Gr2_Mean  Critical_Value  P_value  \\\n",
       "Biology  Male  Female  28.466667  30.666667            0.05     0.51   \n",
       "\n",
       "                         Status  \n",
       "Biology  No Difference in Means  "
      ]
     },
     "execution_count": 20,
     "metadata": {},
     "output_type": "execute_result"
    }
   ],
   "source": [
    "# For Biology Score\n",
    "\n",
    "reportbio = {'Gr1':['Male'], 'Gr2':['Female'], 'Gr1_Mean':[np.mean(biomale)], 'Gr2_Mean':[np.mean(biofemale)],\n",
    "             'Critical_Value':[0.05], 'P_value':[0.51], 'Status':['No Difference in Means']}\n",
    "reportbio = pd.DataFrame(reportbio)\n",
    "reportbio.index = ['Biology']\n",
    "reportbio"
   ]
  },
  {
   "cell_type": "code",
   "execution_count": 21,
   "id": "b323d865",
   "metadata": {},
   "outputs": [
    {
     "data": {
      "text/html": [
       "<div>\n",
       "<style scoped>\n",
       "    .dataframe tbody tr th:only-of-type {\n",
       "        vertical-align: middle;\n",
       "    }\n",
       "\n",
       "    .dataframe tbody tr th {\n",
       "        vertical-align: top;\n",
       "    }\n",
       "\n",
       "    .dataframe thead th {\n",
       "        text-align: right;\n",
       "    }\n",
       "</style>\n",
       "<table border=\"1\" class=\"dataframe\">\n",
       "  <thead>\n",
       "    <tr style=\"text-align: right;\">\n",
       "      <th></th>\n",
       "      <th>Gr1</th>\n",
       "      <th>Gr2</th>\n",
       "      <th>Gr1_Mean</th>\n",
       "      <th>Gr2_Mean</th>\n",
       "      <th>Critical_Value</th>\n",
       "      <th>P_value</th>\n",
       "      <th>Status</th>\n",
       "    </tr>\n",
       "  </thead>\n",
       "  <tbody>\n",
       "    <tr>\n",
       "      <th>ComputerScience</th>\n",
       "      <td>Male</td>\n",
       "      <td>Female</td>\n",
       "      <td>31.433333</td>\n",
       "      <td>30.233333</td>\n",
       "      <td>0.05</td>\n",
       "      <td>0.698</td>\n",
       "      <td>No Difference in Means</td>\n",
       "    </tr>\n",
       "  </tbody>\n",
       "</table>\n",
       "</div>"
      ],
      "text/plain": [
       "                  Gr1     Gr2   Gr1_Mean   Gr2_Mean  Critical_Value  P_value  \\\n",
       "ComputerScience  Male  Female  31.433333  30.233333            0.05    0.698   \n",
       "\n",
       "                                 Status  \n",
       "ComputerScience  No Difference in Means  "
      ]
     },
     "execution_count": 21,
     "metadata": {},
     "output_type": "execute_result"
    }
   ],
   "source": [
    "# For ComputerScience Score\n",
    "\n",
    "reportcs = {'Gr1':['Male'], 'Gr2':['Female'], 'Gr1_Mean':[np.mean(csmale)], 'Gr2_Mean':[np.mean(csfemale)],\n",
    "             'Critical_Value':[0.05], 'P_value':[0.698], 'Status':['No Difference in Means']}\n",
    "reportcs = pd.DataFrame(reportcs)\n",
    "reportcs.index = ['ComputerScience']\n",
    "reportcs"
   ]
  },
  {
   "cell_type": "markdown",
   "id": "e4bb0f05",
   "metadata": {},
   "source": [
    "### Final Result of this Notebook"
   ]
  },
  {
   "cell_type": "code",
   "execution_count": 22,
   "id": "a6018f9f",
   "metadata": {},
   "outputs": [
    {
     "data": {
      "text/html": [
       "<div>\n",
       "<style scoped>\n",
       "    .dataframe tbody tr th:only-of-type {\n",
       "        vertical-align: middle;\n",
       "    }\n",
       "\n",
       "    .dataframe tbody tr th {\n",
       "        vertical-align: top;\n",
       "    }\n",
       "\n",
       "    .dataframe thead th {\n",
       "        text-align: right;\n",
       "    }\n",
       "</style>\n",
       "<table border=\"1\" class=\"dataframe\">\n",
       "  <thead>\n",
       "    <tr style=\"text-align: right;\">\n",
       "      <th></th>\n",
       "      <th>Gr1</th>\n",
       "      <th>Gr2</th>\n",
       "      <th>Gr1_Mean</th>\n",
       "      <th>Gr2_Mean</th>\n",
       "      <th>Critical_Value</th>\n",
       "      <th>P_value</th>\n",
       "      <th>Status</th>\n",
       "    </tr>\n",
       "  </thead>\n",
       "  <tbody>\n",
       "    <tr>\n",
       "      <th>Mathematics</th>\n",
       "      <td>Male</td>\n",
       "      <td>Female</td>\n",
       "      <td>32.866667</td>\n",
       "      <td>33.266667</td>\n",
       "      <td>0.05</td>\n",
       "      <td>0.600</td>\n",
       "      <td>No Difference in Means</td>\n",
       "    </tr>\n",
       "    <tr>\n",
       "      <th>Physics</th>\n",
       "      <td>Male</td>\n",
       "      <td>Female</td>\n",
       "      <td>33.333333</td>\n",
       "      <td>32.300000</td>\n",
       "      <td>0.05</td>\n",
       "      <td>0.228</td>\n",
       "      <td>No Difference in Means</td>\n",
       "    </tr>\n",
       "    <tr>\n",
       "      <th>Chemistry</th>\n",
       "      <td>Male</td>\n",
       "      <td>Female</td>\n",
       "      <td>32.600000</td>\n",
       "      <td>29.566667</td>\n",
       "      <td>0.05</td>\n",
       "      <td>0.334</td>\n",
       "      <td>No Difference in Means</td>\n",
       "    </tr>\n",
       "    <tr>\n",
       "      <th>Biology</th>\n",
       "      <td>Male</td>\n",
       "      <td>Female</td>\n",
       "      <td>28.466667</td>\n",
       "      <td>30.666667</td>\n",
       "      <td>0.05</td>\n",
       "      <td>0.510</td>\n",
       "      <td>No Difference in Means</td>\n",
       "    </tr>\n",
       "    <tr>\n",
       "      <th>ComputerScience</th>\n",
       "      <td>Male</td>\n",
       "      <td>Female</td>\n",
       "      <td>31.433333</td>\n",
       "      <td>30.233333</td>\n",
       "      <td>0.05</td>\n",
       "      <td>0.698</td>\n",
       "      <td>No Difference in Means</td>\n",
       "    </tr>\n",
       "  </tbody>\n",
       "</table>\n",
       "</div>"
      ],
      "text/plain": [
       "                  Gr1     Gr2   Gr1_Mean   Gr2_Mean  Critical_Value  P_value  \\\n",
       "Mathematics      Male  Female  32.866667  33.266667            0.05    0.600   \n",
       "Physics          Male  Female  33.333333  32.300000            0.05    0.228   \n",
       "Chemistry        Male  Female  32.600000  29.566667            0.05    0.334   \n",
       "Biology          Male  Female  28.466667  30.666667            0.05    0.510   \n",
       "ComputerScience  Male  Female  31.433333  30.233333            0.05    0.698   \n",
       "\n",
       "                                 Status  \n",
       "Mathematics      No Difference in Means  \n",
       "Physics          No Difference in Means  \n",
       "Chemistry        No Difference in Means  \n",
       "Biology          No Difference in Means  \n",
       "ComputerScience  No Difference in Means  "
      ]
     },
     "execution_count": 22,
     "metadata": {},
     "output_type": "execute_result"
    }
   ],
   "source": [
    "report1 = pd.concat([reportmath, reportphy, reportchem, reportbio, reportcs], axis = 0)\n",
    "report1"
   ]
  },
  {
   "cell_type": "markdown",
   "id": "80616ccf",
   "metadata": {},
   "source": [
    "### Exporting the Report1"
   ]
  },
  {
   "cell_type": "code",
   "execution_count": 23,
   "id": "15b1fac4",
   "metadata": {},
   "outputs": [],
   "source": [
    "file_path = 'Ttest_report1.csv'\n",
    "report1.to_csv(file_path, index = True)"
   ]
  },
  {
   "cell_type": "code",
   "execution_count": null,
   "id": "a8be27b4",
   "metadata": {},
   "outputs": [],
   "source": []
  }
 ],
 "metadata": {
  "kernelspec": {
   "display_name": "Python 3 (ipykernel)",
   "language": "python",
   "name": "python3"
  },
  "language_info": {
   "codemirror_mode": {
    "name": "ipython",
    "version": 3
   },
   "file_extension": ".py",
   "mimetype": "text/x-python",
   "name": "python",
   "nbconvert_exporter": "python",
   "pygments_lexer": "ipython3",
   "version": "3.11.5"
  }
 },
 "nbformat": 4,
 "nbformat_minor": 5
}
