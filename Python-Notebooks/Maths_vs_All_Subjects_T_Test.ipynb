{
 "cells": [
  {
   "cell_type": "code",
   "execution_count": 1,
   "id": "ea21f042",
   "metadata": {},
   "outputs": [],
   "source": [
    "# Importing Required Packages\n",
    "\n",
    "import numpy as np\n",
    "import pandas as pd\n",
    "import matplotlib.pyplot as plt\n",
    "import seaborn as sns\n",
    "from scipy.stats import ttest_ind as ttest\n",
    "import os\n",
    "%matplotlib inline"
   ]
  },
  {
   "cell_type": "code",
   "execution_count": 2,
   "id": "8a3fb93a",
   "metadata": {},
   "outputs": [
    {
     "data": {
      "text/html": [
       "<div>\n",
       "<style scoped>\n",
       "    .dataframe tbody tr th:only-of-type {\n",
       "        vertical-align: middle;\n",
       "    }\n",
       "\n",
       "    .dataframe tbody tr th {\n",
       "        vertical-align: top;\n",
       "    }\n",
       "\n",
       "    .dataframe thead th {\n",
       "        text-align: right;\n",
       "    }\n",
       "</style>\n",
       "<table border=\"1\" class=\"dataframe\">\n",
       "  <thead>\n",
       "    <tr style=\"text-align: right;\">\n",
       "      <th></th>\n",
       "      <th>Name</th>\n",
       "      <th>Maths</th>\n",
       "      <th>Physics</th>\n",
       "      <th>Chemistry</th>\n",
       "      <th>Biology</th>\n",
       "      <th>ComputerScience</th>\n",
       "      <th>Bengali</th>\n",
       "      <th>English</th>\n",
       "      <th>History</th>\n",
       "      <th>Geography</th>\n",
       "      <th>Statistics</th>\n",
       "      <th>Gender</th>\n",
       "    </tr>\n",
       "  </thead>\n",
       "  <tbody>\n",
       "    <tr>\n",
       "      <th>0</th>\n",
       "      <td>Aniket</td>\n",
       "      <td>37</td>\n",
       "      <td>34</td>\n",
       "      <td>24</td>\n",
       "      <td>15</td>\n",
       "      <td>48</td>\n",
       "      <td>45</td>\n",
       "      <td>15</td>\n",
       "      <td>45</td>\n",
       "      <td>45</td>\n",
       "      <td>45</td>\n",
       "      <td>M</td>\n",
       "    </tr>\n",
       "    <tr>\n",
       "      <th>1</th>\n",
       "      <td>Aarav</td>\n",
       "      <td>32</td>\n",
       "      <td>34</td>\n",
       "      <td>48</td>\n",
       "      <td>25</td>\n",
       "      <td>14</td>\n",
       "      <td>45</td>\n",
       "      <td>14</td>\n",
       "      <td>12</td>\n",
       "      <td>12</td>\n",
       "      <td>12</td>\n",
       "      <td>M</td>\n",
       "    </tr>\n",
       "    <tr>\n",
       "      <th>2</th>\n",
       "      <td>Aashi</td>\n",
       "      <td>32</td>\n",
       "      <td>34</td>\n",
       "      <td>45</td>\n",
       "      <td>40</td>\n",
       "      <td>15</td>\n",
       "      <td>23</td>\n",
       "      <td>45</td>\n",
       "      <td>46</td>\n",
       "      <td>13</td>\n",
       "      <td>46</td>\n",
       "      <td>F</td>\n",
       "    </tr>\n",
       "    <tr>\n",
       "      <th>3</th>\n",
       "      <td>Aayush</td>\n",
       "      <td>35</td>\n",
       "      <td>31</td>\n",
       "      <td>25</td>\n",
       "      <td>41</td>\n",
       "      <td>25</td>\n",
       "      <td>12</td>\n",
       "      <td>12</td>\n",
       "      <td>48</td>\n",
       "      <td>46</td>\n",
       "      <td>12</td>\n",
       "      <td>M</td>\n",
       "    </tr>\n",
       "    <tr>\n",
       "      <th>4</th>\n",
       "      <td>Aditi</td>\n",
       "      <td>26</td>\n",
       "      <td>33</td>\n",
       "      <td>45</td>\n",
       "      <td>39</td>\n",
       "      <td>48</td>\n",
       "      <td>47</td>\n",
       "      <td>14</td>\n",
       "      <td>23</td>\n",
       "      <td>48</td>\n",
       "      <td>48</td>\n",
       "      <td>F</td>\n",
       "    </tr>\n",
       "  </tbody>\n",
       "</table>\n",
       "</div>"
      ],
      "text/plain": [
       "     Name  Maths  Physics  Chemistry  Biology  ComputerScience  Bengali  \\\n",
       "0  Aniket     37       34         24       15               48       45   \n",
       "1   Aarav     32       34         48       25               14       45   \n",
       "2   Aashi     32       34         45       40               15       23   \n",
       "3  Aayush     35       31         25       41               25       12   \n",
       "4   Aditi     26       33         45       39               48       47   \n",
       "\n",
       "   English  History  Geography  Statistics Gender  \n",
       "0       15       45         45          45      M  \n",
       "1       14       12         12          12      M  \n",
       "2       45       46         13          46      F  \n",
       "3       12       48         46          12      M  \n",
       "4       14       23         48          48      F  "
      ]
     },
     "execution_count": 2,
     "metadata": {},
     "output_type": "execute_result"
    }
   ],
   "source": [
    "# Reading the 'StatisticalTest_Data.csv'\n",
    "\n",
    "data = pd.read_csv('StatisticalTest_Data.csv')\n",
    "data.head()"
   ]
  },
  {
   "cell_type": "code",
   "execution_count": 3,
   "id": "2621d15e",
   "metadata": {},
   "outputs": [],
   "source": [
    "# Extracting Column Values of the dataframe and storing them into variables\n",
    "\n",
    "math = data['Maths']\n",
    "phy = data['Physics']\n",
    "chem = data['Chemistry']\n",
    "bio = data['Biology']\n",
    "cs = data['ComputerScience']"
   ]
  },
  {
   "cell_type": "code",
   "execution_count": 4,
   "id": "4910b75d",
   "metadata": {},
   "outputs": [],
   "source": [
    "# Extracting Column Values of the dataframe and storing them into variables\n",
    "\n",
    "ben = data['Bengali']\n",
    "eng = data['English']\n",
    "his = data['History']\n",
    "geo = data['Geography']\n",
    "st = data['Statistics']"
   ]
  },
  {
   "cell_type": "markdown",
   "id": "0e6a9f9d",
   "metadata": {},
   "source": [
    "## Performing T test on the Scores of Different Subjects\n",
    "\n",
    "* Here maths scores are taken as one group\n",
    "* Other subjects are taken as the second group\n",
    "* So, I will test the Maths score versus all other scores\n",
    "\n",
    "### T Test and its hypothesis\n",
    "\n",
    "* Null Hypothesis: There is no significant difference in group means\n",
    "* Alternative Hypothesis: There is significant difference in group means\n",
    "\n",
    "#### Reject the Null Hypothesis when the P value is less or equal to the significance level of 0.05"
   ]
  },
  {
   "cell_type": "markdown",
   "id": "f21fd470",
   "metadata": {},
   "source": [
    "#### Performing T test - Maths Score v/s Maths Score"
   ]
  },
  {
   "cell_type": "code",
   "execution_count": 6,
   "id": "67a66868",
   "metadata": {},
   "outputs": [
    {
     "name": "stdout",
     "output_type": "stream",
     "text": [
      "T_Statistics Value: 0.0\n",
      "P_Value: 1.0\n",
      "No Significant Difference In Group Means\n"
     ]
    }
   ],
   "source": [
    "# Conducting The Test\n",
    "t_statistics, p_value = ttest(math, math)\n",
    "print('T_Statistics Value:', t_statistics)\n",
    "print('P_Value:', p_value)\n",
    "\n",
    "# Status of the Test\n",
    "alpha = 0.05\n",
    "if p_value <= alpha:\n",
    "    print('Significant Difference in Group Means')\n",
    "else:\n",
    "    print('No Significant Difference In Group Means')"
   ]
  },
  {
   "cell_type": "markdown",
   "id": "507b0c71",
   "metadata": {},
   "source": [
    "#### Performing T test - Maths Score v/s Physics Score"
   ]
  },
  {
   "cell_type": "code",
   "execution_count": 7,
   "id": "aead3fc6",
   "metadata": {},
   "outputs": [
    {
     "name": "stdout",
     "output_type": "stream",
     "text": [
      "T_Statistics Value: 0.4388692763774171\n",
      "P_Value: 0.6615587905972973\n",
      "No Significant Difference In Group Means\n"
     ]
    }
   ],
   "source": [
    "t_statistics, p_value = ttest(math, phy)\n",
    "print('T_Statistics Value:', t_statistics)\n",
    "print('P_Value:', p_value)\n",
    "\n",
    "# Status of the Test\n",
    "alpha = 0.05\n",
    "if p_value <= alpha:\n",
    "    print('Significant Difference in Group Means')\n",
    "else:\n",
    "    print('No Significant Difference In Group Means')"
   ]
  },
  {
   "cell_type": "markdown",
   "id": "abc41cd1",
   "metadata": {},
   "source": [
    "#### Performing T test - Maths Score v/s Chemistry Score"
   ]
  },
  {
   "cell_type": "code",
   "execution_count": 8,
   "id": "306e9967",
   "metadata": {},
   "outputs": [
    {
     "name": "stdout",
     "output_type": "stream",
     "text": [
      "T_Statistics Value: 1.2367264937172608\n",
      "P_Value: 0.21864442509783422\n",
      "No Significant Difference In Group Means\n"
     ]
    }
   ],
   "source": [
    "t_statistics, p_value = ttest(math, chem)\n",
    "print('T_Statistics Value:', t_statistics)\n",
    "print('P_Value:', p_value)\n",
    "\n",
    "# Status of the Test\n",
    "alpha = 0.05\n",
    "if p_value <= alpha:\n",
    "    print('Significant Difference in Group Means')\n",
    "else:\n",
    "    print('No Significant Difference In Group Means')"
   ]
  },
  {
   "cell_type": "markdown",
   "id": "63882fa9",
   "metadata": {},
   "source": [
    "#### Performing T test - Maths Score v/s Biology Score"
   ]
  },
  {
   "cell_type": "code",
   "execution_count": 9,
   "id": "048ca112",
   "metadata": {},
   "outputs": [
    {
     "name": "stdout",
     "output_type": "stream",
     "text": [
      "T_Statistics Value: 2.062873700032983\n",
      "P_Value: 0.04131890080398561\n",
      "Significant Difference in Group Means\n"
     ]
    }
   ],
   "source": [
    "t_statistics, p_value = ttest(math, bio)\n",
    "print('T_Statistics Value:', t_statistics)\n",
    "print('P_Value:', p_value)\n",
    "\n",
    "# Status of the Test\n",
    "alpha = 0.05\n",
    "if p_value <= alpha:\n",
    "    print('Significant Difference in Group Means')\n",
    "else:\n",
    "    print('No Significant Difference In Group Means')"
   ]
  },
  {
   "cell_type": "markdown",
   "id": "b0432fd2",
   "metadata": {},
   "source": [
    "#### Performing T test - Maths Score v/s ComputerScience Score"
   ]
  },
  {
   "cell_type": "code",
   "execution_count": 10,
   "id": "d26ec8d2",
   "metadata": {},
   "outputs": [
    {
     "name": "stdout",
     "output_type": "stream",
     "text": [
      "T_Statistics Value: 1.4189063478276378\n",
      "P_Value: 0.15856231811387472\n",
      "No Significant Difference In Group Means\n"
     ]
    }
   ],
   "source": [
    "t_statistics, p_value = ttest(math, cs)\n",
    "print('T_Statistics Value:', t_statistics)\n",
    "print('P_Value:', p_value)\n",
    "\n",
    "# Status of the Test\n",
    "alpha = 0.05\n",
    "if p_value <= alpha:\n",
    "    print('Significant Difference in Group Means')\n",
    "else:\n",
    "    print('No Significant Difference In Group Means')"
   ]
  },
  {
   "cell_type": "markdown",
   "id": "2af5e3cc",
   "metadata": {},
   "source": [
    "#### Performing T test - Maths Score v/s Bengali Score"
   ]
  },
  {
   "cell_type": "code",
   "execution_count": 11,
   "id": "98478952",
   "metadata": {},
   "outputs": [
    {
     "name": "stdout",
     "output_type": "stream",
     "text": [
      "T_Statistics Value: 2.411903398966919\n",
      "P_Value: 0.017410471595065008\n",
      "Significant Difference in Group Means\n"
     ]
    }
   ],
   "source": [
    "t_statistics, p_value = ttest(math, ben)\n",
    "print('T_Statistics Value:', t_statistics)\n",
    "print('P_Value:', p_value)\n",
    "\n",
    "# Status of the Test\n",
    "alpha = 0.05\n",
    "if p_value <= alpha:\n",
    "    print('Significant Difference in Group Means')\n",
    "else:\n",
    "    print('No Significant Difference In Group Means')"
   ]
  },
  {
   "cell_type": "markdown",
   "id": "8bb2510c",
   "metadata": {},
   "source": [
    "#### Performing T test - Maths Score v/s English Score"
   ]
  },
  {
   "cell_type": "code",
   "execution_count": 12,
   "id": "76e488f4",
   "metadata": {},
   "outputs": [
    {
     "name": "stdout",
     "output_type": "stream",
     "text": [
      "T_Statistics Value: 1.567455750474744\n",
      "P_Value: 0.11968602543170957\n",
      "No Significant Difference In Group Means\n"
     ]
    }
   ],
   "source": [
    "t_statistics, p_value = ttest(math, eng)\n",
    "print('T_Statistics Value:', t_statistics)\n",
    "print('P_Value:', p_value)\n",
    "\n",
    "# Status of the Test\n",
    "alpha = 0.05\n",
    "if p_value <= alpha:\n",
    "    print('Significant Difference in Group Means')\n",
    "else:\n",
    "    print('No Significant Difference In Group Means')"
   ]
  },
  {
   "cell_type": "markdown",
   "id": "da7f7f66",
   "metadata": {},
   "source": [
    "#### Performing T test - Maths Score v/s History Score"
   ]
  },
  {
   "cell_type": "code",
   "execution_count": 13,
   "id": "709bf919",
   "metadata": {},
   "outputs": [
    {
     "name": "stdout",
     "output_type": "stream",
     "text": [
      "T_Statistics Value: 2.4870996306952926\n",
      "P_Value: 0.014276683171224266\n",
      "Significant Difference in Group Means\n"
     ]
    }
   ],
   "source": [
    "t_statistics, p_value = ttest(math, his)\n",
    "print('T_Statistics Value:', t_statistics)\n",
    "print('P_Value:', p_value)\n",
    "\n",
    "# Status of the Test\n",
    "alpha = 0.05\n",
    "if p_value <= alpha:\n",
    "    print('Significant Difference in Group Means')\n",
    "else:\n",
    "    print('No Significant Difference In Group Means')"
   ]
  },
  {
   "cell_type": "markdown",
   "id": "35a9c92b",
   "metadata": {},
   "source": [
    "#### Performing T test -  Maths Score v/s Geography Score"
   ]
  },
  {
   "cell_type": "code",
   "execution_count": 14,
   "id": "733335ec",
   "metadata": {},
   "outputs": [
    {
     "name": "stdout",
     "output_type": "stream",
     "text": [
      "T_Statistics Value: 2.9295235555141654\n",
      "P_Value: 0.004076211151801936\n",
      "Significant Difference in Group Means\n"
     ]
    }
   ],
   "source": [
    "t_statistics, p_value = ttest(math, geo)\n",
    "print('T_Statistics Value:', t_statistics)\n",
    "print('P_Value:', p_value)\n",
    "\n",
    "# Status of the Test\n",
    "alpha = 0.05\n",
    "if p_value <= alpha:\n",
    "    print('Significant Difference in Group Means')\n",
    "else:\n",
    "    print('No Significant Difference In Group Means')"
   ]
  },
  {
   "cell_type": "markdown",
   "id": "3f307c6e",
   "metadata": {},
   "source": [
    "#### Performing T test -  Maths Score v/s Statistics Score"
   ]
  },
  {
   "cell_type": "code",
   "execution_count": 15,
   "id": "5e00c471",
   "metadata": {},
   "outputs": [
    {
     "name": "stdout",
     "output_type": "stream",
     "text": [
      "T_Statistics Value: 1.32211948716486\n",
      "P_Value: 0.1886855080485125\n",
      "No Significant Difference In Group Means\n"
     ]
    }
   ],
   "source": [
    "t_statistics, p_value = ttest(math, st)\n",
    "print('T_Statistics Value:', t_statistics)\n",
    "print('P_Value:', p_value)\n",
    "\n",
    "# Status of the Test\n",
    "alpha = 0.05\n",
    "if p_value <= alpha:\n",
    "    print('Significant Difference in Group Means')\n",
    "else:\n",
    "    print('No Significant Difference In Group Means')"
   ]
  },
  {
   "cell_type": "markdown",
   "id": "ca5cfb8e",
   "metadata": {},
   "source": [
    "## Tabulating These Results of T test\n",
    "\n",
    "* Here Maths Score is Taken as one group\n",
    "* The other group various for Different Subjects\n",
    "* Significance Level is 0.05\n",
    "* Reject Null Hypothesis if p value is less or equal to significance level of 0.05"
   ]
  },
  {
   "cell_type": "code",
   "execution_count": 25,
   "id": "0f80be22",
   "metadata": {},
   "outputs": [
    {
     "data": {
      "text/html": [
       "<div>\n",
       "<style scoped>\n",
       "    .dataframe tbody tr th:only-of-type {\n",
       "        vertical-align: middle;\n",
       "    }\n",
       "\n",
       "    .dataframe tbody tr th {\n",
       "        vertical-align: top;\n",
       "    }\n",
       "\n",
       "    .dataframe thead th {\n",
       "        text-align: right;\n",
       "    }\n",
       "</style>\n",
       "<table border=\"1\" class=\"dataframe\">\n",
       "  <thead>\n",
       "    <tr style=\"text-align: right;\">\n",
       "      <th></th>\n",
       "      <th>Sub1</th>\n",
       "      <th>Sub2</th>\n",
       "      <th>Sub1Mean</th>\n",
       "      <th>Sub2Mean</th>\n",
       "      <th>Alpha</th>\n",
       "      <th>P_Value</th>\n",
       "      <th>Test_Status</th>\n",
       "    </tr>\n",
       "  </thead>\n",
       "  <tbody>\n",
       "    <tr>\n",
       "      <th>0</th>\n",
       "      <td>Mathematics</td>\n",
       "      <td>Mathematics</td>\n",
       "      <td>33.066667</td>\n",
       "      <td>33.066667</td>\n",
       "      <td>0.05</td>\n",
       "      <td>1.000</td>\n",
       "      <td>No Significant Difference</td>\n",
       "    </tr>\n",
       "    <tr>\n",
       "      <th>1</th>\n",
       "      <td>Mathematics</td>\n",
       "      <td>Physics</td>\n",
       "      <td>33.066667</td>\n",
       "      <td>32.816667</td>\n",
       "      <td>0.05</td>\n",
       "      <td>0.662</td>\n",
       "      <td>No Significant Difference</td>\n",
       "    </tr>\n",
       "    <tr>\n",
       "      <th>2</th>\n",
       "      <td>Mathematics</td>\n",
       "      <td>Chemistry</td>\n",
       "      <td>33.066667</td>\n",
       "      <td>31.083333</td>\n",
       "      <td>0.05</td>\n",
       "      <td>0.219</td>\n",
       "      <td>No Significant Difference</td>\n",
       "    </tr>\n",
       "    <tr>\n",
       "      <th>3</th>\n",
       "      <td>Mathematics</td>\n",
       "      <td>Biology</td>\n",
       "      <td>33.066667</td>\n",
       "      <td>29.566667</td>\n",
       "      <td>0.05</td>\n",
       "      <td>0.041</td>\n",
       "      <td>Significant Difference</td>\n",
       "    </tr>\n",
       "    <tr>\n",
       "      <th>4</th>\n",
       "      <td>Mathematics</td>\n",
       "      <td>ComputerScience</td>\n",
       "      <td>33.066667</td>\n",
       "      <td>30.833333</td>\n",
       "      <td>0.05</td>\n",
       "      <td>0.159</td>\n",
       "      <td>No Significant Difference</td>\n",
       "    </tr>\n",
       "    <tr>\n",
       "      <th>5</th>\n",
       "      <td>Mathematics</td>\n",
       "      <td>Bengali</td>\n",
       "      <td>33.066667</td>\n",
       "      <td>29.133333</td>\n",
       "      <td>0.05</td>\n",
       "      <td>0.017</td>\n",
       "      <td>Significant Difference</td>\n",
       "    </tr>\n",
       "    <tr>\n",
       "      <th>6</th>\n",
       "      <td>Mathematics</td>\n",
       "      <td>English</td>\n",
       "      <td>33.066667</td>\n",
       "      <td>30.250000</td>\n",
       "      <td>0.05</td>\n",
       "      <td>0.120</td>\n",
       "      <td>No Significant Difference</td>\n",
       "    </tr>\n",
       "    <tr>\n",
       "      <th>7</th>\n",
       "      <td>Mathematics</td>\n",
       "      <td>History</td>\n",
       "      <td>33.066667</td>\n",
       "      <td>28.950000</td>\n",
       "      <td>0.05</td>\n",
       "      <td>0.014</td>\n",
       "      <td>Significant Difference</td>\n",
       "    </tr>\n",
       "    <tr>\n",
       "      <th>8</th>\n",
       "      <td>Mathematics</td>\n",
       "      <td>Geography</td>\n",
       "      <td>33.066667</td>\n",
       "      <td>28.316667</td>\n",
       "      <td>0.05</td>\n",
       "      <td>0.004</td>\n",
       "      <td>Significant Difference</td>\n",
       "    </tr>\n",
       "    <tr>\n",
       "      <th>9</th>\n",
       "      <td>Mathematics</td>\n",
       "      <td>Statistics</td>\n",
       "      <td>33.066667</td>\n",
       "      <td>31.000000</td>\n",
       "      <td>0.05</td>\n",
       "      <td>0.189</td>\n",
       "      <td>No Significant Difference</td>\n",
       "    </tr>\n",
       "  </tbody>\n",
       "</table>\n",
       "</div>"
      ],
      "text/plain": [
       "          Sub1             Sub2   Sub1Mean   Sub2Mean  Alpha  P_Value  \\\n",
       "0  Mathematics      Mathematics  33.066667  33.066667   0.05    1.000   \n",
       "1  Mathematics          Physics  33.066667  32.816667   0.05    0.662   \n",
       "2  Mathematics        Chemistry  33.066667  31.083333   0.05    0.219   \n",
       "3  Mathematics          Biology  33.066667  29.566667   0.05    0.041   \n",
       "4  Mathematics  ComputerScience  33.066667  30.833333   0.05    0.159   \n",
       "5  Mathematics          Bengali  33.066667  29.133333   0.05    0.017   \n",
       "6  Mathematics          English  33.066667  30.250000   0.05    0.120   \n",
       "7  Mathematics          History  33.066667  28.950000   0.05    0.014   \n",
       "8  Mathematics        Geography  33.066667  28.316667   0.05    0.004   \n",
       "9  Mathematics       Statistics  33.066667  31.000000   0.05    0.189   \n",
       "\n",
       "                 Test_Status  \n",
       "0  No Significant Difference  \n",
       "1  No Significant Difference  \n",
       "2  No Significant Difference  \n",
       "3     Significant Difference  \n",
       "4  No Significant Difference  \n",
       "5     Significant Difference  \n",
       "6  No Significant Difference  \n",
       "7     Significant Difference  \n",
       "8     Significant Difference  \n",
       "9  No Significant Difference  "
      ]
     },
     "execution_count": 25,
     "metadata": {},
     "output_type": "execute_result"
    }
   ],
   "source": [
    "# Report of T test Considering Maths Score as a Fixed Group\n",
    "\n",
    "sub1 = ['Mathematics','Mathematics','Mathematics','Mathematics','Mathematics','Mathematics','Mathematics',\n",
    "        'Mathematics','Mathematics','Mathematics' ]\n",
    "\n",
    "sub2 = ['Mathematics','Physics','Chemistry','Biology','ComputerScience','Bengali','English',\n",
    "       'History','Geography','Statistics']\n",
    "\n",
    "Msub1 = [np.mean(math),np.mean(math),np.mean(math),np.mean(math),np.mean(math),np.mean(math),np.mean(math),\n",
    "        np.mean(math),np.mean(math),np.mean(math)]\n",
    "\n",
    "Msub2 = [np.mean(math),np.mean(phy),np.mean(chem),np.mean(bio),np.mean(cs),np.mean(ben),np.mean(eng),\n",
    "        np.mean(his),np.mean(geo),np.mean(st)]\n",
    "\n",
    "alpha = [0.05,0.05,0.05,0.05,0.05,0.05,0.05,0.05,0.05,0.05]\n",
    "\n",
    "pval = [1.000,0.662,0.219,0.041,0.159,0.017,0.120,0.014,0.004,0.189]\n",
    "\n",
    "status = ['No Significant Difference','No Significant Difference','No Significant Difference','Significant Difference',\n",
    "          'No Significant Difference','Significant Difference','No Significant Difference','Significant Difference',\n",
    "         'Significant Difference','No Significant Difference']\n",
    "\n",
    "# Creating Dictionary of this lists and converting them Into Data Frame\n",
    "\n",
    "report1 = {'Sub1':sub1, 'Sub2':sub2, 'Sub1Mean':Msub1, 'Sub2Mean':Msub2, 'Alpha':alpha, 'P_Value':pval,\n",
    "          'Test_Status':status} # Creating Dictionary\n",
    "\n",
    "report1 = pd.DataFrame(report1) # Converting the Dictionary to DataFrame\n",
    "report1"
   ]
  },
  {
   "cell_type": "code",
   "execution_count": null,
   "id": "ef4a9d1c",
   "metadata": {},
   "outputs": [],
   "source": [
    " "
   ]
  }
 ],
 "metadata": {
  "kernelspec": {
   "display_name": "Python 3 (ipykernel)",
   "language": "python",
   "name": "python3"
  },
  "language_info": {
   "codemirror_mode": {
    "name": "ipython",
    "version": 3
   },
   "file_extension": ".py",
   "mimetype": "text/x-python",
   "name": "python",
   "nbconvert_exporter": "python",
   "pygments_lexer": "ipython3",
   "version": "3.11.5"
  }
 },
 "nbformat": 4,
 "nbformat_minor": 5
}
