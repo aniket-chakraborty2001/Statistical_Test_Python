{
 "cells": [
  {
   "cell_type": "code",
   "execution_count": 1,
   "id": "a8bbf2e2",
   "metadata": {},
   "outputs": [],
   "source": [
    "# Importing Required Packages\n",
    "\n",
    "import numpy as np\n",
    "import pandas as pd\n",
    "import matplotlib.pyplot as plt\n",
    "import seaborn as sns\n",
    "import os\n",
    "from scipy.stats import shapiro\n",
    "%matplotlib inline"
   ]
  },
  {
   "cell_type": "code",
   "execution_count": 2,
   "id": "6dda8ab2",
   "metadata": {},
   "outputs": [
    {
     "data": {
      "text/html": [
       "<div>\n",
       "<style scoped>\n",
       "    .dataframe tbody tr th:only-of-type {\n",
       "        vertical-align: middle;\n",
       "    }\n",
       "\n",
       "    .dataframe tbody tr th {\n",
       "        vertical-align: top;\n",
       "    }\n",
       "\n",
       "    .dataframe thead th {\n",
       "        text-align: right;\n",
       "    }\n",
       "</style>\n",
       "<table border=\"1\" class=\"dataframe\">\n",
       "  <thead>\n",
       "    <tr style=\"text-align: right;\">\n",
       "      <th></th>\n",
       "      <th>Name</th>\n",
       "      <th>Maths</th>\n",
       "      <th>Physics</th>\n",
       "      <th>Chemistry</th>\n",
       "      <th>Biology</th>\n",
       "      <th>ComputerScience</th>\n",
       "      <th>Bengali</th>\n",
       "      <th>English</th>\n",
       "      <th>History</th>\n",
       "      <th>Geography</th>\n",
       "      <th>Statistics</th>\n",
       "      <th>Gender</th>\n",
       "    </tr>\n",
       "  </thead>\n",
       "  <tbody>\n",
       "    <tr>\n",
       "      <th>0</th>\n",
       "      <td>Aniket</td>\n",
       "      <td>37</td>\n",
       "      <td>34</td>\n",
       "      <td>24</td>\n",
       "      <td>15</td>\n",
       "      <td>48</td>\n",
       "      <td>45</td>\n",
       "      <td>15</td>\n",
       "      <td>45</td>\n",
       "      <td>45</td>\n",
       "      <td>45</td>\n",
       "      <td>M</td>\n",
       "    </tr>\n",
       "    <tr>\n",
       "      <th>1</th>\n",
       "      <td>Aarav</td>\n",
       "      <td>32</td>\n",
       "      <td>34</td>\n",
       "      <td>48</td>\n",
       "      <td>25</td>\n",
       "      <td>14</td>\n",
       "      <td>45</td>\n",
       "      <td>14</td>\n",
       "      <td>12</td>\n",
       "      <td>12</td>\n",
       "      <td>12</td>\n",
       "      <td>M</td>\n",
       "    </tr>\n",
       "    <tr>\n",
       "      <th>2</th>\n",
       "      <td>Aashi</td>\n",
       "      <td>32</td>\n",
       "      <td>34</td>\n",
       "      <td>45</td>\n",
       "      <td>40</td>\n",
       "      <td>15</td>\n",
       "      <td>23</td>\n",
       "      <td>45</td>\n",
       "      <td>46</td>\n",
       "      <td>13</td>\n",
       "      <td>46</td>\n",
       "      <td>F</td>\n",
       "    </tr>\n",
       "    <tr>\n",
       "      <th>3</th>\n",
       "      <td>Aayush</td>\n",
       "      <td>35</td>\n",
       "      <td>31</td>\n",
       "      <td>25</td>\n",
       "      <td>41</td>\n",
       "      <td>25</td>\n",
       "      <td>12</td>\n",
       "      <td>12</td>\n",
       "      <td>48</td>\n",
       "      <td>46</td>\n",
       "      <td>12</td>\n",
       "      <td>M</td>\n",
       "    </tr>\n",
       "    <tr>\n",
       "      <th>4</th>\n",
       "      <td>Aditi</td>\n",
       "      <td>26</td>\n",
       "      <td>33</td>\n",
       "      <td>45</td>\n",
       "      <td>39</td>\n",
       "      <td>48</td>\n",
       "      <td>47</td>\n",
       "      <td>14</td>\n",
       "      <td>23</td>\n",
       "      <td>48</td>\n",
       "      <td>48</td>\n",
       "      <td>F</td>\n",
       "    </tr>\n",
       "  </tbody>\n",
       "</table>\n",
       "</div>"
      ],
      "text/plain": [
       "     Name  Maths  Physics  Chemistry  Biology  ComputerScience  Bengali  \\\n",
       "0  Aniket     37       34         24       15               48       45   \n",
       "1   Aarav     32       34         48       25               14       45   \n",
       "2   Aashi     32       34         45       40               15       23   \n",
       "3  Aayush     35       31         25       41               25       12   \n",
       "4   Aditi     26       33         45       39               48       47   \n",
       "\n",
       "   English  History  Geography  Statistics Gender  \n",
       "0       15       45         45          45      M  \n",
       "1       14       12         12          12      M  \n",
       "2       45       46         13          46      F  \n",
       "3       12       48         46          12      M  \n",
       "4       14       23         48          48      F  "
      ]
     },
     "execution_count": 2,
     "metadata": {},
     "output_type": "execute_result"
    }
   ],
   "source": [
    "# Reading the Data from the directory\n",
    "\n",
    "data = pd.read_csv('StatisticalTest_Data.csv')\n",
    "data.head()"
   ]
  },
  {
   "cell_type": "code",
   "execution_count": 3,
   "id": "ed01b072",
   "metadata": {},
   "outputs": [],
   "source": [
    "# Extracting the Data for last 5 subjects\n",
    "\n",
    "ben = data['Bengali']\n",
    "eng = data['English']\n",
    "his = data['History']\n",
    "geo = data['Geography']\n",
    "stat = data['Statistics']"
   ]
  },
  {
   "cell_type": "markdown",
   "id": "6b7ce0d0",
   "metadata": {},
   "source": [
    "### Statistical Test for the Data Set\n",
    "* Check Summary Statistics\n",
    "* Check whether the Data is Normal or not\n",
    "\n",
    "#### Hypothesis for Shapiro Test:\n",
    "* Null Hypothesis: The Data is Normally Distributed\n",
    "* Alternative Hypothesis: The Data is Not Normally Distributed"
   ]
  },
  {
   "cell_type": "markdown",
   "id": "1be6b9e8",
   "metadata": {},
   "source": [
    "## Check The Statistical Importance of the Bengali Data"
   ]
  },
  {
   "cell_type": "code",
   "execution_count": 4,
   "id": "9dad3eb8",
   "metadata": {},
   "outputs": [
    {
     "data": {
      "text/plain": [
       "count    60.000000\n",
       "mean     29.133333\n",
       "std      12.288160\n",
       "min       5.000000\n",
       "25%      21.000000\n",
       "50%      28.000000\n",
       "75%      42.000000\n",
       "max      48.000000\n",
       "Name: Bengali, dtype: float64"
      ]
     },
     "execution_count": 4,
     "metadata": {},
     "output_type": "execute_result"
    }
   ],
   "source": [
    "# Summary Statistics for Bengali Data\n",
    "ben.describe()"
   ]
  },
  {
   "cell_type": "code",
   "execution_count": 5,
   "id": "396e4261",
   "metadata": {},
   "outputs": [
    {
     "name": "stdout",
     "output_type": "stream",
     "text": [
      "Shapiro-Wilk statistic: 0.9345240592956543\n",
      "p-value: 0.0031059749890118837\n",
      "The Data is Not Normal\n"
     ]
    }
   ],
   "source": [
    "# Shapiro Test to Check Normality of the data\n",
    "# Consider the Significance Level is 0.05\n",
    "\n",
    "stat, p = shapiro(ben)\n",
    "print('Shapiro-Wilk statistic:', stat)\n",
    "print('p-value:', p)\n",
    "\n",
    "# Status of the Test\n",
    "if p <= 0.05:\n",
    "    print('The Data is Not Normal')\n",
    "else:\n",
    "    print('The Data is Normal')"
   ]
  },
  {
   "cell_type": "markdown",
   "id": "974e555c",
   "metadata": {},
   "source": [
    "## Check The Statistical Importance of the English Data"
   ]
  },
  {
   "cell_type": "code",
   "execution_count": 6,
   "id": "699a2208",
   "metadata": {},
   "outputs": [
    {
     "data": {
      "text/plain": [
       "count    60.000000\n",
       "mean     30.250000\n",
       "std      13.607855\n",
       "min       5.000000\n",
       "25%      16.500000\n",
       "50%      30.000000\n",
       "75%      45.000000\n",
       "max      49.000000\n",
       "Name: English, dtype: float64"
      ]
     },
     "execution_count": 6,
     "metadata": {},
     "output_type": "execute_result"
    }
   ],
   "source": [
    "# Summary Statistics\n",
    "eng.describe()"
   ]
  },
  {
   "cell_type": "code",
   "execution_count": 7,
   "id": "66abfe9d",
   "metadata": {},
   "outputs": [
    {
     "name": "stdout",
     "output_type": "stream",
     "text": [
      "Shapiro-Wilk statistic: 0.900098443031311\n",
      "p-value: 0.00013262411812320352\n",
      "The Data is Not Normal\n"
     ]
    }
   ],
   "source": [
    "# Shapiro Test to Check Normality of the data\n",
    "# Consider the Significance Level is 0.05\n",
    "\n",
    "stat, p = shapiro(eng)\n",
    "print('Shapiro-Wilk statistic:', stat)\n",
    "print('p-value:', p)\n",
    "\n",
    "# Status of the Test\n",
    "if p <= 0.05:\n",
    "    print('The Data is Not Normal')\n",
    "else:\n",
    "    print('The Data is Normal')"
   ]
  },
  {
   "cell_type": "markdown",
   "id": "a62ac48d",
   "metadata": {},
   "source": [
    "## Check The Statistical Importance of the History Data"
   ]
  },
  {
   "cell_type": "code",
   "execution_count": 8,
   "id": "97196c4a",
   "metadata": {},
   "outputs": [
    {
     "data": {
      "text/plain": [
       "count    60.000000\n",
       "mean     28.950000\n",
       "std      12.482428\n",
       "min       5.000000\n",
       "25%      19.000000\n",
       "50%      27.500000\n",
       "75%      45.000000\n",
       "max      48.000000\n",
       "Name: History, dtype: float64"
      ]
     },
     "execution_count": 8,
     "metadata": {},
     "output_type": "execute_result"
    }
   ],
   "source": [
    "# Summary Statistics\n",
    "his.describe()"
   ]
  },
  {
   "cell_type": "code",
   "execution_count": 9,
   "id": "5bf54bd0",
   "metadata": {},
   "outputs": [
    {
     "name": "stdout",
     "output_type": "stream",
     "text": [
      "Shapiro-Wilk statistic: 0.9257447719573975\n",
      "p-value: 0.0013166321441531181\n",
      "The Data is Not Normal\n"
     ]
    }
   ],
   "source": [
    "# Shapiro Test to Check Normality of the data\n",
    "# Consider the Significance Level is 0.05\n",
    "\n",
    "stat, p = shapiro(his)\n",
    "print('Shapiro-Wilk statistic:', stat)\n",
    "print('p-value:', p)\n",
    "\n",
    "# Status of the Test\n",
    "if p <= 0.05:\n",
    "    print('The Data is Not Normal')\n",
    "else:\n",
    "    print('The Data is Normal')"
   ]
  },
  {
   "cell_type": "markdown",
   "id": "72696793",
   "metadata": {},
   "source": [
    "## Check The Statistical Importance of the Geography Data"
   ]
  },
  {
   "cell_type": "code",
   "execution_count": 10,
   "id": "794bdbd8",
   "metadata": {},
   "outputs": [
    {
     "data": {
      "text/plain": [
       "count    60.000000\n",
       "mean     28.316667\n",
       "std      12.213485\n",
       "min       5.000000\n",
       "25%      21.000000\n",
       "50%      28.000000\n",
       "75%      38.250000\n",
       "max      48.000000\n",
       "Name: Geography, dtype: float64"
      ]
     },
     "execution_count": 10,
     "metadata": {},
     "output_type": "execute_result"
    }
   ],
   "source": [
    "# Summary Statistics\n",
    "geo.describe()"
   ]
  },
  {
   "cell_type": "code",
   "execution_count": 11,
   "id": "c407b709",
   "metadata": {},
   "outputs": [
    {
     "name": "stdout",
     "output_type": "stream",
     "text": [
      "Shapiro-Wilk statistic: 0.9394094944000244\n",
      "p-value: 0.005096178501844406\n",
      "The Data is Not Normal\n"
     ]
    }
   ],
   "source": [
    "# Shapiro Test to Check Normality of the data\n",
    "# Consider the Significance Level is 0.05\n",
    "\n",
    "stat, p = shapiro(geo)\n",
    "print('Shapiro-Wilk statistic:', stat)\n",
    "print('p-value:', p)\n",
    "\n",
    "# Status of the Test\n",
    "if p <= 0.05:\n",
    "    print('The Data is Not Normal')\n",
    "else:\n",
    "    print('The Data is Normal')"
   ]
  },
  {
   "cell_type": "markdown",
   "id": "c3d789d4",
   "metadata": {},
   "source": [
    "## Check The Statistical Importance of the Geography Data"
   ]
  },
  {
   "cell_type": "code",
   "execution_count": 13,
   "id": "7cdb2002",
   "metadata": {},
   "outputs": [
    {
     "data": {
      "text/plain": [
       "count    60.000000\n",
       "mean     31.000000\n",
       "std      11.748783\n",
       "min       6.000000\n",
       "25%      24.000000\n",
       "50%      34.000000\n",
       "75%      39.000000\n",
       "max      48.000000\n",
       "Name: Statistics, dtype: float64"
      ]
     },
     "execution_count": 13,
     "metadata": {},
     "output_type": "execute_result"
    }
   ],
   "source": [
    "data['Statistics'].describe()"
   ]
  },
  {
   "cell_type": "code",
   "execution_count": 15,
   "id": "cbdf48b8",
   "metadata": {},
   "outputs": [
    {
     "name": "stdout",
     "output_type": "stream",
     "text": [
      "Shapiro-Wilk statistic: 0.9237614870071411\n",
      "p-value: 0.0010905155213549733\n",
      "The Data is Not Normal\n"
     ]
    }
   ],
   "source": [
    "# Shapiro Test to Check Normality of the data\n",
    "# Consider the Significance Level is 0.05\n",
    "\n",
    "statdata = data['Statistics']  \n",
    "stat, p = shapiro(statdata)\n",
    "print('Shapiro-Wilk statistic:', stat)\n",
    "print('p-value:', p)\n",
    "\n",
    "# Status of the Test\n",
    "if p <= 0.05:\n",
    "    print('The Data is Not Normal')\n",
    "else:\n",
    "    print('The Data is Normal')"
   ]
  },
  {
   "cell_type": "markdown",
   "id": "ac09ea55",
   "metadata": {},
   "source": [
    "## Tabulating the Results We get in this Notebook"
   ]
  },
  {
   "cell_type": "code",
   "execution_count": 16,
   "id": "24f47ae4",
   "metadata": {},
   "outputs": [
    {
     "data": {
      "text/html": [
       "<div>\n",
       "<style scoped>\n",
       "    .dataframe tbody tr th:only-of-type {\n",
       "        vertical-align: middle;\n",
       "    }\n",
       "\n",
       "    .dataframe tbody tr th {\n",
       "        vertical-align: top;\n",
       "    }\n",
       "\n",
       "    .dataframe thead th {\n",
       "        text-align: right;\n",
       "    }\n",
       "</style>\n",
       "<table border=\"1\" class=\"dataframe\">\n",
       "  <thead>\n",
       "    <tr style=\"text-align: right;\">\n",
       "      <th></th>\n",
       "      <th>Mean</th>\n",
       "      <th>STD</th>\n",
       "      <th>P-Value</th>\n",
       "      <th>SignificanceLevel</th>\n",
       "      <th>Status</th>\n",
       "    </tr>\n",
       "  </thead>\n",
       "  <tbody>\n",
       "    <tr>\n",
       "      <th>Bengali</th>\n",
       "      <td>29.133333</td>\n",
       "      <td>12.185328</td>\n",
       "      <td>0.003</td>\n",
       "      <td>0.05</td>\n",
       "      <td>Not-Normal</td>\n",
       "    </tr>\n",
       "  </tbody>\n",
       "</table>\n",
       "</div>"
      ],
      "text/plain": [
       "              Mean        STD  P-Value  SignificanceLevel      Status\n",
       "Bengali  29.133333  12.185328    0.003               0.05  Not-Normal"
      ]
     },
     "execution_count": 16,
     "metadata": {},
     "output_type": "execute_result"
    }
   ],
   "source": [
    "# Report for the Bengali Data\n",
    "# Stote it in a Variable Called reportmath\n",
    "\n",
    "reportben = {'Mean':[np.mean(data['Bengali'])], 'STD':[np.std(data['Bengali'])], \n",
    "          'P-Value':[0.003], 'SignificanceLevel':[0.05], 'Status':['Not-Normal']}\n",
    "reportben = pd.DataFrame(reportben)\n",
    "reportben.index = ['Bengali']\n",
    "reportben"
   ]
  },
  {
   "cell_type": "code",
   "execution_count": 17,
   "id": "f91ca389",
   "metadata": {},
   "outputs": [
    {
     "data": {
      "text/html": [
       "<div>\n",
       "<style scoped>\n",
       "    .dataframe tbody tr th:only-of-type {\n",
       "        vertical-align: middle;\n",
       "    }\n",
       "\n",
       "    .dataframe tbody tr th {\n",
       "        vertical-align: top;\n",
       "    }\n",
       "\n",
       "    .dataframe thead th {\n",
       "        text-align: right;\n",
       "    }\n",
       "</style>\n",
       "<table border=\"1\" class=\"dataframe\">\n",
       "  <thead>\n",
       "    <tr style=\"text-align: right;\">\n",
       "      <th></th>\n",
       "      <th>Mean</th>\n",
       "      <th>STD</th>\n",
       "      <th>P-Value</th>\n",
       "      <th>SignificanceLevel</th>\n",
       "      <th>Status</th>\n",
       "    </tr>\n",
       "  </thead>\n",
       "  <tbody>\n",
       "    <tr>\n",
       "      <th>English</th>\n",
       "      <td>30.25</td>\n",
       "      <td>13.49398</td>\n",
       "      <td>0.0001</td>\n",
       "      <td>0.05</td>\n",
       "      <td>Not-Normal</td>\n",
       "    </tr>\n",
       "  </tbody>\n",
       "</table>\n",
       "</div>"
      ],
      "text/plain": [
       "          Mean       STD  P-Value  SignificanceLevel      Status\n",
       "English  30.25  13.49398   0.0001               0.05  Not-Normal"
      ]
     },
     "execution_count": 17,
     "metadata": {},
     "output_type": "execute_result"
    }
   ],
   "source": [
    "# Report for the English Data\n",
    "# Stote it in a Variable Called reportmath\n",
    "\n",
    "reporteng = {'Mean':[np.mean(data['English'])], 'STD':[np.std(data['English'])], \n",
    "          'P-Value':[0.0001],'SignificanceLevel':[0.05], 'Status':['Not-Normal']}\n",
    "reporteng = pd.DataFrame(reporteng)\n",
    "reporteng.index = ['English']\n",
    "reporteng"
   ]
  },
  {
   "cell_type": "code",
   "execution_count": 18,
   "id": "bfd0fc08",
   "metadata": {},
   "outputs": [
    {
     "data": {
      "text/html": [
       "<div>\n",
       "<style scoped>\n",
       "    .dataframe tbody tr th:only-of-type {\n",
       "        vertical-align: middle;\n",
       "    }\n",
       "\n",
       "    .dataframe tbody tr th {\n",
       "        vertical-align: top;\n",
       "    }\n",
       "\n",
       "    .dataframe thead th {\n",
       "        text-align: right;\n",
       "    }\n",
       "</style>\n",
       "<table border=\"1\" class=\"dataframe\">\n",
       "  <thead>\n",
       "    <tr style=\"text-align: right;\">\n",
       "      <th></th>\n",
       "      <th>Mean</th>\n",
       "      <th>STD</th>\n",
       "      <th>P-Value</th>\n",
       "      <th>SignificanceLevel</th>\n",
       "      <th>Status</th>\n",
       "    </tr>\n",
       "  </thead>\n",
       "  <tbody>\n",
       "    <tr>\n",
       "      <th>History</th>\n",
       "      <td>28.95</td>\n",
       "      <td>12.377971</td>\n",
       "      <td>0.001</td>\n",
       "      <td>0.05</td>\n",
       "      <td>Not-Normal</td>\n",
       "    </tr>\n",
       "  </tbody>\n",
       "</table>\n",
       "</div>"
      ],
      "text/plain": [
       "          Mean        STD  P-Value  SignificanceLevel      Status\n",
       "History  28.95  12.377971    0.001               0.05  Not-Normal"
      ]
     },
     "execution_count": 18,
     "metadata": {},
     "output_type": "execute_result"
    }
   ],
   "source": [
    "# Report for the History Data\n",
    "# Stote it in a Variable Called reportmath\n",
    "\n",
    "reporthis = {'Mean':[np.mean(data['History'])], 'STD':[np.std(data['History'])], \n",
    "          'P-Value':[0.001],'SignificanceLevel':[0.05], 'Status':['Not-Normal']}\n",
    "reporthis = pd.DataFrame(reporthis)\n",
    "reporthis.index = ['History']\n",
    "reporthis"
   ]
  },
  {
   "cell_type": "code",
   "execution_count": 19,
   "id": "c6d6c6d0",
   "metadata": {},
   "outputs": [
    {
     "data": {
      "text/html": [
       "<div>\n",
       "<style scoped>\n",
       "    .dataframe tbody tr th:only-of-type {\n",
       "        vertical-align: middle;\n",
       "    }\n",
       "\n",
       "    .dataframe tbody tr th {\n",
       "        vertical-align: top;\n",
       "    }\n",
       "\n",
       "    .dataframe thead th {\n",
       "        text-align: right;\n",
       "    }\n",
       "</style>\n",
       "<table border=\"1\" class=\"dataframe\">\n",
       "  <thead>\n",
       "    <tr style=\"text-align: right;\">\n",
       "      <th></th>\n",
       "      <th>Mean</th>\n",
       "      <th>STD</th>\n",
       "      <th>P-Value</th>\n",
       "      <th>SignificanceLevel</th>\n",
       "      <th>Status</th>\n",
       "    </tr>\n",
       "  </thead>\n",
       "  <tbody>\n",
       "    <tr>\n",
       "      <th>Geography</th>\n",
       "      <td>28.316667</td>\n",
       "      <td>12.111278</td>\n",
       "      <td>0.005</td>\n",
       "      <td>0.05</td>\n",
       "      <td>Not-Normal</td>\n",
       "    </tr>\n",
       "  </tbody>\n",
       "</table>\n",
       "</div>"
      ],
      "text/plain": [
       "                Mean        STD  P-Value  SignificanceLevel      Status\n",
       "Geography  28.316667  12.111278    0.005               0.05  Not-Normal"
      ]
     },
     "execution_count": 19,
     "metadata": {},
     "output_type": "execute_result"
    }
   ],
   "source": [
    "# Report for the Geography Data\n",
    "# Stote it in a Variable Called reportmath\n",
    "\n",
    "reportgeo = {'Mean':[np.mean(data['Geography'])], 'STD':[np.std(data['Geography'])], \n",
    "          'P-Value':[0.005],'SignificanceLevel':[0.05], 'Status':['Not-Normal']}\n",
    "reportgeo = pd.DataFrame(reportgeo)\n",
    "reportgeo.index = ['Geography']\n",
    "reportgeo"
   ]
  },
  {
   "cell_type": "code",
   "execution_count": 20,
   "id": "d7ec8b08",
   "metadata": {},
   "outputs": [
    {
     "data": {
      "text/html": [
       "<div>\n",
       "<style scoped>\n",
       "    .dataframe tbody tr th:only-of-type {\n",
       "        vertical-align: middle;\n",
       "    }\n",
       "\n",
       "    .dataframe tbody tr th {\n",
       "        vertical-align: top;\n",
       "    }\n",
       "\n",
       "    .dataframe thead th {\n",
       "        text-align: right;\n",
       "    }\n",
       "</style>\n",
       "<table border=\"1\" class=\"dataframe\">\n",
       "  <thead>\n",
       "    <tr style=\"text-align: right;\">\n",
       "      <th></th>\n",
       "      <th>Mean</th>\n",
       "      <th>STD</th>\n",
       "      <th>P-Value</th>\n",
       "      <th>SignificanceLevel</th>\n",
       "      <th>Status</th>\n",
       "    </tr>\n",
       "  </thead>\n",
       "  <tbody>\n",
       "    <tr>\n",
       "      <th>Statistics</th>\n",
       "      <td>31.0</td>\n",
       "      <td>11.650465</td>\n",
       "      <td>0.001</td>\n",
       "      <td>0.05</td>\n",
       "      <td>Not-Normal</td>\n",
       "    </tr>\n",
       "  </tbody>\n",
       "</table>\n",
       "</div>"
      ],
      "text/plain": [
       "            Mean        STD  P-Value  SignificanceLevel      Status\n",
       "Statistics  31.0  11.650465    0.001               0.05  Not-Normal"
      ]
     },
     "execution_count": 20,
     "metadata": {},
     "output_type": "execute_result"
    }
   ],
   "source": [
    "    # Report for the Statistics Data\n",
    "# Stote it in a Variable Called reportmath\n",
    "\n",
    "reportstat = {'Mean':[np.mean(data['Statistics'])], 'STD':[np.std(data['Statistics'])], \n",
    "          'P-Value':[0.001],'SignificanceLevel':[0.05], 'Status':['Not-Normal']}\n",
    "reportstat = pd.DataFrame(reportstat)\n",
    "reportstat.index = ['Statistics']\n",
    "reportstat"
   ]
  },
  {
   "cell_type": "markdown",
   "id": "97e50022",
   "metadata": {},
   "source": [
    "## Complete Report of this Notebook"
   ]
  },
  {
   "cell_type": "code",
   "execution_count": 21,
   "id": "67a5bb19",
   "metadata": {},
   "outputs": [
    {
     "data": {
      "text/html": [
       "<div>\n",
       "<style scoped>\n",
       "    .dataframe tbody tr th:only-of-type {\n",
       "        vertical-align: middle;\n",
       "    }\n",
       "\n",
       "    .dataframe tbody tr th {\n",
       "        vertical-align: top;\n",
       "    }\n",
       "\n",
       "    .dataframe thead th {\n",
       "        text-align: right;\n",
       "    }\n",
       "</style>\n",
       "<table border=\"1\" class=\"dataframe\">\n",
       "  <thead>\n",
       "    <tr style=\"text-align: right;\">\n",
       "      <th></th>\n",
       "      <th>Mean</th>\n",
       "      <th>STD</th>\n",
       "      <th>P-Value</th>\n",
       "      <th>SignificanceLevel</th>\n",
       "      <th>Status</th>\n",
       "    </tr>\n",
       "  </thead>\n",
       "  <tbody>\n",
       "    <tr>\n",
       "      <th>Bengali</th>\n",
       "      <td>29.133333</td>\n",
       "      <td>12.185328</td>\n",
       "      <td>0.0030</td>\n",
       "      <td>0.05</td>\n",
       "      <td>Not-Normal</td>\n",
       "    </tr>\n",
       "    <tr>\n",
       "      <th>English</th>\n",
       "      <td>30.250000</td>\n",
       "      <td>13.493980</td>\n",
       "      <td>0.0001</td>\n",
       "      <td>0.05</td>\n",
       "      <td>Not-Normal</td>\n",
       "    </tr>\n",
       "    <tr>\n",
       "      <th>History</th>\n",
       "      <td>28.950000</td>\n",
       "      <td>12.377971</td>\n",
       "      <td>0.0010</td>\n",
       "      <td>0.05</td>\n",
       "      <td>Not-Normal</td>\n",
       "    </tr>\n",
       "    <tr>\n",
       "      <th>Geography</th>\n",
       "      <td>28.316667</td>\n",
       "      <td>12.111278</td>\n",
       "      <td>0.0050</td>\n",
       "      <td>0.05</td>\n",
       "      <td>Not-Normal</td>\n",
       "    </tr>\n",
       "    <tr>\n",
       "      <th>Statistics</th>\n",
       "      <td>31.000000</td>\n",
       "      <td>11.650465</td>\n",
       "      <td>0.0010</td>\n",
       "      <td>0.05</td>\n",
       "      <td>Not-Normal</td>\n",
       "    </tr>\n",
       "  </tbody>\n",
       "</table>\n",
       "</div>"
      ],
      "text/plain": [
       "                 Mean        STD  P-Value  SignificanceLevel      Status\n",
       "Bengali     29.133333  12.185328   0.0030               0.05  Not-Normal\n",
       "English     30.250000  13.493980   0.0001               0.05  Not-Normal\n",
       "History     28.950000  12.377971   0.0010               0.05  Not-Normal\n",
       "Geography   28.316667  12.111278   0.0050               0.05  Not-Normal\n",
       "Statistics  31.000000  11.650465   0.0010               0.05  Not-Normal"
      ]
     },
     "execution_count": 21,
     "metadata": {},
     "output_type": "execute_result"
    }
   ],
   "source": [
    "report2 = pd.concat([reportben, reporteng, reporthis, reportgeo, reportstat], axis = 0)\n",
    "report2"
   ]
  },
  {
   "cell_type": "markdown",
   "id": "a594858e",
   "metadata": {},
   "source": [
    "### Exporting the Report as a csv file"
   ]
  },
  {
   "cell_type": "code",
   "execution_count": 22,
   "id": "2c9ea89d",
   "metadata": {},
   "outputs": [],
   "source": [
    "file_path = 'Report2.csv'\n",
    "report2.to_csv(file_path , index = True)"
   ]
  },
  {
   "cell_type": "code",
   "execution_count": null,
   "id": "51f7591f",
   "metadata": {},
   "outputs": [],
   "source": []
  }
 ],
 "metadata": {
  "kernelspec": {
   "display_name": "Python 3 (ipykernel)",
   "language": "python",
   "name": "python3"
  },
  "language_info": {
   "codemirror_mode": {
    "name": "ipython",
    "version": 3
   },
   "file_extension": ".py",
   "mimetype": "text/x-python",
   "name": "python",
   "nbconvert_exporter": "python",
   "pygments_lexer": "ipython3",
   "version": "3.11.5"
  }
 },
 "nbformat": 4,
 "nbformat_minor": 5
}
